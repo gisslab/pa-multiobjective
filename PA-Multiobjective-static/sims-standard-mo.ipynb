{
 "cells": [
  {
   "cell_type": "markdown",
   "metadata": {},
   "source": [
    "# Perfect Information"
   ]
  },
  {
   "cell_type": "markdown",
   "metadata": {},
   "source": [
    "## Importing packages"
   ]
  },
  {
   "cell_type": "code",
   "execution_count": null,
   "metadata": {
    "scrolled": true
   },
   "outputs": [],
   "source": [
    "from random import Random\n",
    "from time import time\n",
    "import inspyred\n",
    "import math\n",
    "from datetime import datetime\n",
    "import pandas as pd\n",
    "import numpy as np\n",
    "import os\n",
    "from matplotlib.ticker import ScalarFormatter,AutoMinorLocator\n",
    "import matplotlib as mpl\n",
    "import matplotlib.pyplot as plt\n",
    "#roots\n",
    "from numpy import *\n",
    "from scipy.optimize import fsolve\n",
    "import uuid #unique id\n",
    "\n",
    "%matplotlib inline"
   ]
  },
  {
   "cell_type": "markdown",
   "metadata": {},
   "source": [
    "## Parameters, Variables and Methods"
   ]
  },
  {
   "cell_type": "code",
   "execution_count": null,
   "metadata": {
    "scrolled": true
   },
   "outputs": [],
   "source": [
    "#Colors\n",
    "blue_cara5 = '#66abd4'\n",
    "red_cara5 = '#fa6849'\n",
    "\n",
    "# vector of thresholds for well-defined efforts,\n",
    "# the order of thresholds is crras = 0.1, 0.3, 0.5, 0.7, 0.9\n",
    "vector_thresholds = [ 2.28818816, 2.43051102, 2.87529982, 4.11788842,10.71904348]"
   ]
  },
  {
   "cell_type": "markdown",
   "metadata": {},
   "source": [
    "# Classical Model"
   ]
  },
  {
   "cell_type": "code",
   "execution_count": null,
   "metadata": {},
   "outputs": [],
   "source": [
    "\n",
    "# importing perfect information methods and variables\n",
    "import src.standardmodel as sm"
   ]
  },
  {
   "cell_type": "code",
   "execution_count": null,
   "metadata": {
    "tags": []
   },
   "outputs": [],
   "source": [
    "#calling method that solve the classical model equations\n",
    "\n",
    "# setting precision\n",
    "sm.set_precision(1000)\n",
    "# the variable vi_j, refers to the vector of type i (reservation utilites if '' ), # with risk averse coefficient of j/100.\n",
    "# example: vW_70, vector of wages when rick aversion coefficient is 0.7\n",
    "v10,va_10,vW_10,vU_10,vV_10 = sm.classical_model_solve(crra = 0.1)\n",
    "v30,va_30,vW_30,vU_30,vV_30 = sm.classical_model_solve(crra = 0.3)\n",
    "v50,va_50,vW_50,vU_50,vV_50 = sm.classical_model_solve(crra = 0.5)\n",
    "v70,va_70,vW_70,vU_70,vV_70 = sm.classical_model_solve(crra = 0.7)\n",
    "v90,va_90,vW_90,vU_90,vV_90 = sm.classical_model_solve(crra = 0.9)\n",
    "\n"
   ]
  },
  {
   "cell_type": "markdown",
   "metadata": {},
   "source": [
    "## Ploting "
   ]
  },
  {
   "cell_type": "code",
   "execution_count": null,
   "metadata": {
    "scrolled": true
   },
   "outputs": [],
   "source": [
    "plt.figure(figsize=(10,3))\n",
    "\n",
    "plt.subplot(131)\n",
    "plt.scatter(v10, vW_10, lw=1.4, s=1.0, c=v10,  cmap ='Reds')\n",
    "plt.xlabel(\"Reservation Utility\",fontsize=10)\n",
    "plt.ylabel(\"Salary\",fontsize=10)\n",
    "plt.subplot(132)\n",
    "plt.scatter(v10, va_10, lw=1.4, s=1.0, c=v10,  cmap ='Reds')\n",
    "plt.xlabel(\"Reservation Utility\",fontsize=10)\n",
    "plt.ylabel(\"Effort\",fontsize=10)\n",
    "plt.subplot(133)\n",
    "plt.scatter(vU_10, vV_10, lw=1.4, s=1.0,c=v10,  cmap ='Reds')\n",
    "plt.xlabel(\"Principal Utility\",fontsize=10)\n",
    "plt.ylabel(\"Agent Utility\",fontsize=10)\n",
    "#plt.legend(fontsize=8)\n",
    "#Adding color barcbar = plt.colorbar()\n",
    "cbar=plt.colorbar()\n",
    "#cbar.set_ticks([0,255])\n",
    "cbar.set_label('Reservation Utility',rotation = 270, labelpad=15.0)#, rotation=270)\n",
    "\n",
    "#changing space between plots\n",
    "plt.subplots_adjust(bottom=0.17, right=0.9, top=0.9,wspace = 0.32)\n",
    "plt.show()\n",
    "\n",
    "plt.savefig('./reports/Standard_Perf_Inf_h10_3x1.pdf',dpi)\n"
   ]
  },
  {
   "cell_type": "code",
   "execution_count": null,
   "metadata": {},
   "outputs": [],
   "source": [
    "plt.figure(figsize=(10,3))\n",
    "\n",
    "plt.subplot(131)\n",
    "plt.scatter(v30, vW_30, lw=1.4, s=1.0, c=v30,  cmap ='Reds')\n",
    "plt.xlabel(\"Reservation Utility\",fontsize=10)\n",
    "plt.ylabel(\"Salary\",fontsize=10)\n",
    "plt.subplot(132)\n",
    "plt.scatter(v30, va_30, lw=1.4, s=1.0, c=v30,  cmap ='Reds')\n",
    "plt.xlabel(\"Reservation Utility\",fontsize=10)\n",
    "plt.ylabel(\"Effort\",fontsize=10)\n",
    "plt.subplot(133)\n",
    "plt.scatter(vU_30, vV_30, lw=1.4, s=1.0,c=v30,  cmap ='Reds')\n",
    "plt.xlabel(\"Principal Utility\",fontsize=10)\n",
    "plt.ylabel(\"Agent Utility\",fontsize=10)\n",
    "#plt.legend(fontsize=8)\n",
    "#Adding color barcbar = plt.colorbar()\n",
    "cbar=plt.colorbar()\n",
    "#cbar.set_ticks([0,255])\n",
    "cbar.set_label('Reservation Utility',rotation = 270, labelpad=15.0)#, rotation=270)\n",
    "\n",
    "#changing space between plots\n",
    "plt.subplots_adjust(bottom=0.17, right=0.9, top=0.9,wspace = 0.32)\n",
    "plt.show()\n",
    "\n",
    "plt.savefig('./reports/Standard_Perf_Inf_h30_3x1.pdf')\n"
   ]
  },
  {
   "cell_type": "code",
   "execution_count": null,
   "metadata": {
    "scrolled": true
   },
   "outputs": [],
   "source": [
    "#Painting variables in method\n",
    "plt.figure(figsize=(10,3))\n",
    "\n",
    "plt.subplot(131)\n",
    "plt.scatter(v50, vW_50, lw=1.4, s=1.0, c=v50,  cmap ='Reds')\n",
    "plt.xlabel(\"Reservation Utility\",fontsize=10)\n",
    "plt.ylabel(\"Salary\",fontsize=10)\n",
    "plt.subplot(132)\n",
    "plt.scatter(v50, va_50, lw=1.4, s=1.0, c=v50,  cmap ='Reds')\n",
    "plt.xlabel(\"Reservation Utility\",fontsize=10)\n",
    "plt.ylabel(\"Effort\",fontsize=10)\n",
    "plt.subplot(133)\n",
    "plt.scatter(vU_50, vV_50, lw=1.4, s=1.0,c=v50,  cmap ='Reds')\n",
    "plt.xlabel(\"Principal Utility\",fontsize=10)\n",
    "plt.ylabel(\"Agent Utility\",fontsize=10)\n",
    "#plt.legend(fontsize=8)\n",
    "\n",
    "#Adding color barcbar = plt.colorbar()\n",
    "cbar=plt.colorbar()\n",
    "#cbar.set_ticks([0,255])\n",
    "cbar.set_label('Reservation Utility',rotation = 270, labelpad=15.0)#, rotation=270)\n",
    "\n",
    "#changing space between plots\n",
    "plt.subplots_adjust(bottom=0.17, right=0.9, top=0.9,wspace = 0.32)\n",
    "plt.show()\n",
    "\n",
    "\n",
    "plt.savefig('./reports/Standard_Perf_Inf_h50_3x1.pdf')\n"
   ]
  },
  {
   "cell_type": "code",
   "execution_count": null,
   "metadata": {
    "scrolled": true
   },
   "outputs": [],
   "source": [
    "plt.figure(figsize=(10,3))\n",
    "\n",
    "plt.subplot(131)\n",
    "plt.scatter(v70, vW_70, lw=1.4, s=1.0, c=v70,  cmap ='Reds')\n",
    "plt.xlabel(\"Reservation Utility\",fontsize=10)\n",
    "plt.ylabel(\"Salary\",fontsize=10)\n",
    "plt.subplot(132)\n",
    "plt.scatter(v70, va_70, lw=1.4, s=1.0, c=v70,  cmap ='Reds')\n",
    "plt.xlabel(\"Reservation Utility\",fontsize=10)\n",
    "plt.ylabel(\"Effort\",fontsize=10)\n",
    "plt.subplot(133)\n",
    "plt.scatter(vU_70, vV_70, lw=1.4, s=1.0,c=v70,  cmap ='Reds')\n",
    "plt.xlabel(\"Principal Utility\",fontsize=10)\n",
    "plt.ylabel(\"Agent Utility\",fontsize=10)\n",
    "#plt.legend(fontsize=8)\n",
    "\n",
    "#Adding color barcbar = plt.colorbar()\n",
    "cbar=plt.colorbar()\n",
    "#cbar.set_ticks([0,255])\n",
    "cbar.set_label('Reservation Utility',rotation = 270, labelpad=15.0)#, rotation=270)\n",
    "\n",
    "#changing space between plots\n",
    "plt.subplots_adjust(bottom=0.17, right=0.9, top=0.9,wspace = 0.32)\n",
    "plt.show()\n",
    "\n",
    "\n",
    "plt.savefig('./reports/Standard_Perf_Inf_h70_3x1.pdf')\n",
    "\n"
   ]
  },
  {
   "cell_type": "code",
   "execution_count": null,
   "metadata": {
    "scrolled": true
   },
   "outputs": [],
   "source": [
    "plt.figure(figsize=(10,3))\n",
    "\n",
    "plt.subplot(131)\n",
    "plt.scatter(v70, vW_70, lw=1.4, s=1.0, c=v70,  cmap ='Reds')\n",
    "plt.xlabel(\"Reservation Utility\",fontsize=10)\n",
    "plt.ylabel(\"Salary\",fontsize=10)\n",
    "plt.subplot(132)\n",
    "plt.scatter(v70, va_70, lw=1.4, s=1.0, c=v70,  cmap ='Reds')\n",
    "plt.xlabel(\"Reservation Utility\",fontsize=10)\n",
    "plt.ylabel(\"Effort\",fontsize=10)\n",
    "plt.subplot(133)\n",
    "plt.scatter(vU_70, vV_70, lw=1.4, s=1.0,c=v70,  cmap ='Reds')\n",
    "plt.xlabel(\"Principal Utility\",fontsize=10)\n",
    "plt.ylabel(\"Agent Utility\",fontsize=10)\n",
    "#plt.legend(fontsize=8)\n",
    "\n",
    "#Adding color barcbar = plt.colorbar()\n",
    "cbar=plt.colorbar()\n",
    "#cbar.set_ticks([0,255])\n",
    "cbar.set_label('Reservation Utility',rotation = 270, labelpad=15.0)#, rotation=270)\n",
    "\n",
    "#changing space between plots\n",
    "plt.subplots_adjust(bottom=0.17, right=0.9, top=0.9,wspace = 0.32)\n",
    "plt.show()\n",
    "\n",
    "\n",
    "plt.savefig('./reports/Standard_Perf_Inf_h90_3x1.pdf')\n"
   ]
  },
  {
   "cell_type": "code",
   "execution_count": null,
   "metadata": {},
   "outputs": [],
   "source": [
    "\n",
    "def graficador(x, y, color, colormap='viridis', title='', h=7, w=5, axes=None, shape='o'):\n",
    "    if axes:\n",
    "        plt.sca(axes)\n",
    "    else:\n",
    "        fig, ((axes)) = plt.subplots(1, 1, sharex=True, sharey=True, figsize=[h, w])\n",
    "    plt.scatter(x, y, c=color, cmap=colormap, marker=shape)\n",
    "    if len(plt.gcf().axes) < 2:\n",
    "        plt.colorbar()\n",
    "    plt.title(title)\n",
    "    return axes"
   ]
  },
  {
   "cell_type": "code",
   "execution_count": null,
   "metadata": {},
   "outputs": [],
   "source": [
    "fig= plt.figure(figsize=(10, 3), constrained_layout=False)#\n",
    "gs = fig.add_gridspec(1, 10, hspace=6, wspace=6)\n",
    "\n",
    "ax1 = fig.add_subplot(gs[:, 0:3])\n",
    "#ax1 = fig.add_subplot()\n",
    "ax1.scatter(v10, vW_10, lw=1.4, s=1.0, c='#fc9272')\n",
    "ax1.scatter(v30, vW_30, lw=1.4, s=1.0, c='#fb6a4a')\n",
    "ax1.scatter(v50, vW_50, lw=1.4, s=1.0, c='#ef3b2c')\n",
    "ax1.scatter(v70, vW_70, lw=1.4, s=1.0, c='#cb181d')\n",
    "ax1.scatter(v90, vW_90, lw=1.4, s=1.0, c='#99000d')\n",
    "plt.xlabel(\"Reservation Utility\",fontsize=10)\n",
    "plt.ylabel(\"Salary\",fontsize=10)\n",
    "\n",
    "ax2 = fig.add_subplot(gs[:, 3:6])\n",
    "ax2.scatter(v10, va_10, lw=1.4, s=1.0, c='#fc9272')\n",
    "ax2.scatter(v30, va_30, lw=1.4, s=1.0, c='#fb6a4a')\n",
    "ax2.scatter(v50, va_50, lw=1.4, s=1.0, c='#ef3b2c')\n",
    "ax2.scatter(v70, va_70, lw=1.4, s=1.0, c='#cb181d')\n",
    "ax2.scatter(v90, va_90, lw=1.4, s=1.0, c='#99000d')\n",
    "plt.xlabel(\"Reservation Utility\",fontsize=10)\n",
    "plt.ylabel(\"Effort\",fontsize=10)\n",
    "\n",
    "ax3 = fig.add_subplot(gs[:, 6:9])\n",
    "ax3.scatter(vU_10, vV_10, lw=1.4, s=1.0, c='#fc9272',cmap = 'Reds')\n",
    "ax3.scatter(vU_30, vV_30, lw=1.4, s=1.0, c='#fb6a4a',cmap = 'Reds')\n",
    "ax3.scatter(vU_50, vV_50, lw=1.4, s=1.0, c='#ef3b2c',cmap = 'Reds')\n",
    "ax3.scatter(vU_70, vV_70, lw=1.4, s=1.0, c='#cb181d',cmap = 'Reds')\n",
    "ax3.scatter(vU_90, vV_90, lw=1.4, s=1.0, c='#99000d',cmap = 'Reds')\n",
    "plt.xlabel(\"Principal Utility\",fontsize=10)\n",
    "plt.ylabel(\"Agent Utility\",fontsize=10)\n",
    "\n",
    "ax4 = fig.add_subplot(gs[:, 9:])\n",
    "#seting color bar\n",
    "import matplotlib as mpl\n",
    "##reds = cm.get_cmap('Reds', 256)\n",
    "cmap_red = mpl.cm.Reds #using Reds\n",
    "norm = mpl.colors.Normalize(vmin=0, vmax=1)\n",
    "\n",
    "cbar = mpl.colorbar.ColorbarBase(ax4, cmap=cmap_red,norm=norm, orientation='vertical')\n",
    "\n",
    "cbar.set_label('Risk Aversion',rotation = 270, labelpad=15.0)\n",
    "\n",
    "#changing space between plots\n",
    "plt.subplots_adjust(bottom=0.17, right=0.9, top=0.9, wspace = 0.32)\n",
    "plt.show()\n",
    "\n",
    "\n",
    "plt.savefig('./reports/Standard_Perf_Inf_hs_3x1_bar.pdf')\n"
   ]
  },
  {
   "cell_type": "code",
   "execution_count": null,
   "metadata": {},
   "outputs": [],
   "source": [
    "plt.figure(figsize=(10,3))\n",
    "\n",
    "plt.subplot(131)\n",
    "plt.scatter(v10, vW_10, lw=1.4, s=1.0, c='#fc9272')\n",
    "plt.scatter(v30, vW_30, lw=1.4, s=1.0, c='#fb6a4a')\n",
    "plt.scatter(v50, vW_50, lw=1.4, s=1.0, c='#ef3b2c')\n",
    "plt.scatter(v70, vW_70, lw=1.4, s=1.0, c='#cb181d')\n",
    "plt.scatter(v90, vW_90, lw=1.4, s=1.0, c='#99000d')\n",
    "#plt.legend(fontsize=8)\n",
    "plt.xlabel(\"Reserve Utility\",fontsize=10)\n",
    "plt.ylabel(\"Salary\",fontsize=10)\n",
    "plt.subplot(132)\n",
    "plt.scatter(v10, va_10, lw=1.4, s=1.0, c='#fc9272')\n",
    "plt.scatter(v30, va_30, lw=1.4, s=1.0, c='#fb6a4a')\n",
    "plt.scatter(v50, va_50, lw=1.4, s=1.0, c='#ef3b2c')\n",
    "plt.scatter(v70, va_70, lw=1.4, s=1.0, c='#cb181d')\n",
    "plt.scatter(v90, va_90, lw=1.4, s=1.0, c='#99000d')\n",
    "#plt.legend(fontsize=8)\n",
    "plt.xlabel(\"Reserve Utility\",fontsize=10)\n",
    "plt.ylabel(\"Effort\",fontsize=10)\n",
    "plt.ylim(0,1.25)\n",
    "\n",
    "plt.subplot(133)\n",
    "plt.scatter(vU_10, vV_10, lw=1.4, s=1.0, c='#fc9272')\n",
    "plt.scatter(vU_30, vV_30, lw=1.4, s=1.0, c='#fb6a4a')\n",
    "plt.scatter(vU_50, vV_50, lw=1.4, s=1.0, c='#ef3b2c')\n",
    "plt.scatter(vU_70, vV_70, lw=1.4, s=1.0, c='#cb181d')\n",
    "plt.scatter(vU_90, vV_90, lw=1.4, s=1.0, c='#99000d')\n",
    "#plt.legend(fontsize=3)\n",
    "plt.xlabel(\"Principal Utility\",fontsize=10)\n",
    "plt.ylabel(\"Agent Utility\",fontsize=10)\n",
    "#plt.xlim(0,3.5)\n",
    "#changing space between plots\n",
    "plt.subplots_adjust(bottom=0.17, right=0.9, top=0.9,wspace = 0.32)\n",
    "plt.show()\n",
    "\n",
    "\n",
    "\n",
    "plt.savefig('./reports/Standard_Perf_Inf_h_Restrin.pdf')\n",
    "\n"
   ]
  },
  {
   "cell_type": "markdown",
   "metadata": {},
   "source": [
    "# Multi-objetive Model"
   ]
  },
  {
   "cell_type": "code",
   "execution_count": null,
   "metadata": {},
   "outputs": [],
   "source": [
    "\n",
    "# importing perfect information methods and variables\n",
    "import src.momodel as mo"
   ]
  },
  {
   "cell_type": "code",
   "execution_count": null,
   "metadata": {},
   "outputs": [],
   "source": [
    "\n",
    "z2_10, vaa_10, vWW_10, vUMoM_10, vVMoM_10 = mo.mo_model_solve(crra = 0.1)\n",
    "z2_30, vaa_30, vWW_30, vUMoM_30, vVMoM_30 = mo.mo_model_solve(crra = 0.3)\n",
    "z2_50, vaa_50, vWW_50, vUMoM_50, vVMoM_50 = mo.mo_model_solve(crra = 0.5)\n",
    "z2_70, vaa_70, vWW_70, vUMoM_70, vVMoM_70 = mo.mo_model_solve(crra = 0.7)\n",
    "z2_90, vaa_90, vWW_90, vUMoM_90, vVMoM_90 = mo.mo_model_solve(crra = 0.9)"
   ]
  },
  {
   "cell_type": "markdown",
   "metadata": {},
   "source": [
    "## Ploting"
   ]
  },
  {
   "cell_type": "code",
   "execution_count": null,
   "metadata": {
    "scrolled": true
   },
   "outputs": [],
   "source": [
    "plt.figure(figsize=(10, 3))\n",
    "\n",
    "plt.subplot(131)\n",
    "plt.scatter(z2_10, vWW_10, lw=1.4, s=1.0, c=z2_10,  cmap ='Blues')\n",
    "plt.xlabel(\"Bargaining Power\",fontsize = 10)\n",
    "plt.ylabel(\"Salary\",fontsize = 10)\n",
    "plt.subplot(132)\n",
    "plt.scatter(z2_10, vaa_10, lw=1.4, s=1.0,  c=z2_10,  cmap ='Blues')\n",
    "plt.xlabel(\"Bargaining Power\",fontsize = 10)\n",
    "plt.ylabel(\"Effort\",fontsize = 10)\n",
    "plt.subplot(133)\n",
    "plt.scatter(vUMoM_10, vVMoM_10, lw=1.4, s=1.0, c = vVMoM_10,  cmap ='Blues')\n",
    "plt.xlabel(\"Principal Utility\",fontsize = 10)\n",
    "plt.ylabel(\"Agent Utility\",fontsize = 10)\n",
    "\n",
    "#Adding color barcbar = plt.colorbar()\n",
    "cbar=plt.colorbar()\n",
    "#cbar.set_ticks([0,255])\n",
    "cbar.set_label('Bargaining Power',rotation = 270, labelpad=15.0)#, rotation=270)\n",
    "\n",
    "#changing space between plots\n",
    "plt.subplots_adjust(bottom=0.17, right=0.9, top=0.9,wspace = 0.32)\n",
    "plt.show()\n",
    "\n",
    "\n",
    "plt.savefig('./reports/MultObj_Perf_Inf_h10_3x1.pdf')\n",
    "\n",
    "\n",
    "\n"
   ]
  },
  {
   "cell_type": "code",
   "execution_count": null,
   "metadata": {},
   "outputs": [],
   "source": [
    "plt.figure(figsize=(10, 3))\n",
    "\n",
    "plt.subplot(131)\n",
    "plt.scatter(vz, vWW, lw=1.4, s=1.0, c=vz,  cmap ='Blues')\n",
    "plt.xlabel(\"Bargaining Power\",fontsize = 10)\n",
    "plt.ylabel(\"Salary\",fontsize = 10)\n",
    "plt.subplot(132)\n",
    "plt.scatter(vz, vaa, lw=1.4, s=1.0,  c=vz,  cmap ='Blues')\n",
    "plt.xlabel(\"Bargaining Power\",fontsize = 10)\n",
    "plt.ylabel(\"Effort\",fontsize = 10)\n",
    "plt.subplot(133)\n",
    "plt.scatter(vUMoM, vVMoM, lw=1.4, s=1.0, c = vVMoM,  cmap ='Blues')\n",
    "plt.xlabel(\"Principal Utility\",fontsize = 10)\n",
    "plt.ylabel(\"Agent Utility\",fontsize = 10)\n",
    "\n",
    "#Adding color barcbar = plt.colorbar()\n",
    "cbar=plt.colorbar()\n",
    "#cbar.set_ticks([0,255])\n",
    "cbar.set_label('Bargaining Power',rotation = 270, labelpad=15.0)#, rotation=270)\n",
    "\n",
    "#changing space between plots\n",
    "plt.subplots_adjust(bottom=0.17, right=0.9, top=0.9,wspace = 0.32)\n",
    "plt.show()\n",
    "\n",
    "\n",
    "plt.savefig('./reports/MultObj_Perf_Inf_h10_3x1.pdf')\n",
    "\n",
    "\n",
    "\n"
   ]
  },
  {
   "cell_type": "code",
   "execution_count": null,
   "metadata": {},
   "outputs": [],
   "source": [
    "plt.figure(figsize=(10, 3))\n",
    "\n",
    "plt.subplot(131)\n",
    "plt.scatter(z2_30, vWW_30, lw=1.4, s=1.0, c=z2_30,  cmap ='Blues')\n",
    "plt.xlabel(\"Bargaining Power\",fontsize = 10)\n",
    "plt.ylabel(\"Salary\",fontsize = 10)\n",
    "plt.subplot(132)\n",
    "plt.scatter(z2_30, vaa_30, lw=1.4, s=1.0,  c=z2_30,  cmap ='Blues')\n",
    "plt.xlabel(\"Bargaining Power\",fontsize = 10)\n",
    "plt.ylabel(\"Effort\",fontsize = 10)\n",
    "plt.subplot(133)\n",
    "plt.scatter(vUMoM_30, vVMoM_30, lw=1.4, s=1.0, c = vVMoM_30,  cmap ='Blues')\n",
    "plt.xlabel(\"Principal Utility\",fontsize = 10)\n",
    "plt.ylabel(\"Agent Utility\",fontsize = 10)\n",
    "\n",
    "#Adding color barcbar = plt.colorbar()\n",
    "cbar=plt.colorbar()\n",
    "#cbar.set_ticks([0,255])\n",
    "cbar.set_label('Bargaining Power',rotation = 270, labelpad=15.0)#, rotation=270)\n",
    "\n",
    "#changing space between plots\n",
    "plt.subplots_adjust(bottom=0.17, right=0.9, top=0.9,wspace = 0.32)\n",
    "plt.show()\n",
    "\n",
    "\n",
    "plt.savefig('./reports/MultObj_Perf_Inf_h30_3x1.pdf')\n",
    "\n"
   ]
  },
  {
   "cell_type": "code",
   "execution_count": null,
   "metadata": {},
   "outputs": [],
   "source": [
    "plt.figure(figsize=(10, 3))\n",
    "\n",
    "plt.subplot(131)\n",
    "plt.scatter(z2_50, vWW_50, lw=1.4, s=1.0, c=z2_50,  cmap ='Blues')\n",
    "plt.xlabel(\"Bargaining Power\",fontsize = 10)\n",
    "plt.ylabel(\"Salary\",fontsize = 10)\n",
    "plt.subplot(132)\n",
    "plt.scatter(z2_50, vaa_50, lw=1.4, s=1.0,  c=z2_50,  cmap ='Blues')\n",
    "plt.xlabel(\"Bargaining Power\",fontsize = 10)\n",
    "plt.ylabel(\"Effort\",fontsize = 10)\n",
    "plt.subplot(133)\n",
    "plt.scatter(vUMoM_50, vVMoM_50, lw=1.4, s=1.0, c = vVMoM_50,  cmap ='Blues')\n",
    "plt.xlabel(\"Principal Utility\",fontsize = 10)\n",
    "plt.ylabel(\"Agent Utility\",fontsize = 10)\n",
    "\n",
    "#Adding color barcbar = plt.colorbar()\n",
    "cbar=plt.colorbar()\n",
    "#cbar.set_ticks([0,255])\n",
    "cbar.set_label('Bargaining Power',rotation = 270, labelpad=15.0)#, rotation=270)\n",
    "\n",
    "#changing space between plots\n",
    "plt.subplots_adjust(bottom=0.17, right=0.9, top=0.9,wspace = 0.32)\n",
    "plt.show()\n",
    "\n",
    "plt.savefig('./reports/MultObj_Perf_Inf_h50_3x1.pdf')\n"
   ]
  },
  {
   "cell_type": "code",
   "execution_count": null,
   "metadata": {},
   "outputs": [],
   "source": [
    "#Painting variables in method\n",
    "plt.figure(figsize=(11,3))\n",
    "\n",
    "plt.subplot(131)\n",
    "plt.scatter(z2_50, vWW_50, lw=1.4, s=1.0, c=z2_50,  cmap ='Blues')\n",
    "plt.xlabel(\"Bargaining Power\",fontsize = 10)\n",
    "plt.ylabel(\"Salary\",fontsize = 10)\n",
    "plt.subplot(132)\n",
    "plt.scatter(z2_50, vaa_50, lw=1.4, s=1.0,  c=z2_50,  cmap ='Blues')\n",
    "plt.xlabel(\"Bargaining Power\",fontsize = 10)\n",
    "plt.ylabel(\"Effort\",fontsize = 10)\n",
    "plt.subplot(133)\n",
    "plt.scatter(vUMoM_50, vVMoM_50, lw=1.4, s=1.0, c = vVMoM_50,  cmap ='Blues')\n",
    "plt.xlabel(\"Principal Utility\",fontsize = 10)\n",
    "plt.ylabel(\"Agent Utility\",fontsize = 10)\n",
    "\n",
    "#Adding color bar\n",
    "cbar = plt.colorbar()\n",
    "#cbar.set_ticks([0,255])\n",
    "cbar.set_label('Bargaining Power',rotation = 270, labelpad=15.0)#, rotation=270)\n",
    "\n",
    "#changing space between plots\n",
    "plt.subplots_adjust(bottom=0.2, right=0.8, top=0.9,wspace = 0.3)\n",
    "plt.show()\n",
    "\n",
    "plt.savefig('./reports/MultObj_Perf_Inf_h50_3x1.pdf')\n"
   ]
  },
  {
   "cell_type": "code",
   "execution_count": null,
   "metadata": {
    "scrolled": true
   },
   "outputs": [],
   "source": [
    "plt.figure(figsize=(10, 3))\n",
    "\n",
    "plt.subplot(131)\n",
    "plt.scatter(z2_70, vWW_70, lw=1.4, s=1.0, c=z2_70,  cmap ='Blues')\n",
    "plt.xlabel(\"Bargaining Power\",fontsize = 10)\n",
    "plt.ylabel(\"Salary\",fontsize = 10)\n",
    "plt.subplot(132)\n",
    "plt.scatter(z2_70, vaa_70, lw=1.4, s=1.0,  c=z2_70,  cmap ='Blues')\n",
    "plt.xlabel(\"Bargaining Power\",fontsize = 10)\n",
    "plt.ylabel(\"Effort\",fontsize = 10)\n",
    "plt.subplot(133)\n",
    "plt.scatter(vUMoM_70, vVMoM_70, lw=1.4, s=1.0, c = vVMoM_70,  cmap ='Blues')\n",
    "plt.xlabel(\"Principal Utility\",fontsize = 10)\n",
    "plt.ylabel(\"Agent Utility\",fontsize = 10)\n",
    "\n",
    "#Adding color barcbar = plt.colorbar()\n",
    "cbar=plt.colorbar()\n",
    "#cbar.set_ticks([0,255])\n",
    "cbar.set_label('Bargaining Power',rotation = 270, labelpad=15.0)#, rotation=270)\n",
    "\n",
    "#changing space between plots\n",
    "plt.subplots_adjust(bottom=0.17, right=0.9, top=0.9,wspace = 0.32)\n",
    "plt.show()\n",
    "\n",
    "\n",
    "plt.savefig('./reports/MultObj_Perf_Inf_h70_3x1.pdf')\n"
   ]
  },
  {
   "cell_type": "code",
   "execution_count": null,
   "metadata": {},
   "outputs": [],
   "source": [
    "plt.figure(figsize=(10, 3))\n",
    "\n",
    "plt.subplot(131)\n",
    "plt.scatter(z2_90, vWW_90, lw=1.4, s=1.0, c=z2_90,  cmap ='Blues')\n",
    "plt.xlabel(\"Bargaining Power\",fontsize = 10)\n",
    "plt.ylabel(\"Salary\",fontsize = 10)\n",
    "plt.subplot(132)\n",
    "plt.scatter(z2_90, vaa_90, lw=1.4, s=1.0,  c=z2_90,  cmap ='Blues')\n",
    "plt.xlabel(\"Bargaining Power\",fontsize = 10)\n",
    "plt.ylabel(\"Effort\",fontsize = 10)\n",
    "plt.subplot(133)\n",
    "plt.scatter(vUMoM_90, vVMoM_90, lw=1.4, s=1.0, c = vVMoM_90,  cmap ='Blues')\n",
    "plt.xlabel(\"Principal Utility\",fontsize = 10)\n",
    "plt.ylabel(\"Agent Utility\",fontsize = 10)\n",
    "\n",
    "#Adding color barcbar = plt.colorbar()\n",
    "cbar=plt.colorbar()\n",
    "#cbar.set_ticks([0,255])\n",
    "cbar.set_label('Bargaining Power',rotation = 270, labelpad=15.0)#, rotation=270)\n",
    "\n",
    "#changing space between plots\n",
    "plt.subplots_adjust(bottom=0.17, right=0.9, top=0.9,wspace = 0.32)\n",
    "plt.show()\n",
    "\n",
    "plt.savefig('./reports/MultObj_Perf_Inf_h90_3x1.pdf')\n"
   ]
  },
  {
   "cell_type": "code",
   "execution_count": null,
   "metadata": {},
   "outputs": [],
   "source": [
    "fig= plt.figure(figsize=(10, 3), constrained_layout=False)#\n",
    "gs = fig.add_gridspec(1, 10, hspace=6, wspace=6)\n",
    "\n",
    "ax1 = fig.add_subplot(gs[:, 0:3])\n",
    "#ax1 = fig.add_subplot()\n",
    "ax1.scatter(z2_10, vWW_10, lw=1.4, s=1.0, c='#ece7f2')\n",
    "ax1.scatter(z2_30, vWW_30, lw=1.4, s=1.0, c='#d0d1e6')\n",
    "ax1.scatter(z2_50, vWW_50, lw=1.4, s=1.0, c='#74a9cf')\n",
    "ax1.scatter(z2_70, vWW_70, lw=1.4, s=1.0, c='#3690c0')\n",
    "ax1.scatter(z2_90, vWW_90, lw=1.4, s=1.0, c='#023858')\n",
    "plt.xlabel(\"Bargaining Power\",fontsize=10)\n",
    "plt.ylabel(\"Salary\",fontsize=10)\n",
    "\n",
    "ax2 = fig.add_subplot(gs[:, 3:6])\n",
    "ax2.scatter(z2_10, vaa_10, lw=1.4, s=1.0, c='#ece7f2')\n",
    "ax2.scatter(z2_30, vaa_30, lw=1.4, s=1.0, c='#d0d1e6')\n",
    "ax2.scatter(z2_50, vaa_50, lw=1.4, s=1.0, c='#74a9cf')\n",
    "ax2.scatter(z2_70, vaa_70, lw=1.4, s=1.0, c='#3690c0')\n",
    "ax2.scatter(z2_90, vaa_90, lw=1.4, s=1.0, c='#023858')\n",
    "plt.xlabel(\"Bargaining Power\",fontsize=10)\n",
    "plt.ylabel(\"Effort\",fontsize=10)\n",
    "\n",
    "ax3 = fig.add_subplot(gs[:, 6:9])\n",
    "ax3.scatter(vUMoM_10, vVMoM_10, lw=1.4, s=1.0, c='#ece7f2',cmap = 'Blues')\n",
    "ax3.scatter(vUMoM_30, vVMoM_30, lw=1.4, s=1.0, c='#d0d1e6',cmap = 'Blues')\n",
    "ax3.scatter(vUMoM_50, vVMoM_50, lw=1.4, s=1.0, c='#74a9cf',cmap = 'Blues')\n",
    "ax3.scatter(vUMoM_70, vVMoM_70, lw=1.4, s=1.0, c='#3690c0',cmap = 'Blues')\n",
    "ax3.scatter(vUMoM_90, vVMoM_90, lw=1.4, s=1.0, c='#023858',cmap = 'Blues')\n",
    "plt.xlabel(\"Principal Utility\",fontsize=10)\n",
    "plt.ylabel(\"Agent Utility\",fontsize=10)\n",
    "\n",
    "\n",
    "\n",
    "ax4 = fig.add_subplot(gs[:, 9:])\n",
    "#seting color bar\n",
    "import matplotlib as mpl\n",
    "\n",
    "cmap_blue = mpl.cm.Blues #using Blues\n",
    "\n",
    "norm = mpl.colors.Normalize(vmin=0, vmax=1)\n",
    "\n",
    "cbar = mpl.colorbar.ColorbarBase(ax4, cmap=cmap_blue,\n",
    "                                norm=norm,\n",
    "                                orientation='vertical')\n",
    "#cbar.set_ticks([0,255])\n",
    "cbar.set_label('Bargaining Power',rotation = 270, labelpad=15.0)#, rotation=270)\n",
    "\n",
    "#changing space between plots\n",
    "plt.subplots_adjust(bottom=0.17, right=0.9, top=0.9,wspace = 0.32)\n",
    "plt.show()\n",
    "\n",
    "\n",
    "plt.savefig('./reports/MultObj_Perf_Inf_hs_3x1.pdf')\n"
   ]
  },
  {
   "cell_type": "markdown",
   "metadata": {},
   "source": [
    "## Ploting Complete"
   ]
  },
  {
   "cell_type": "code",
   "execution_count": null,
   "metadata": {
    "scrolled": true
   },
   "outputs": [],
   "source": [
    "mo.set_precision(10000)\n",
    "z, vaa, vWW, vUMoM, vVMoM = mo.mo_model_solve(crra = 0.5, thresh_1 = 0, thresh_2 = 1)"
   ]
  },
  {
   "cell_type": "code",
   "execution_count": null,
   "metadata": {},
   "outputs": [],
   "source": [
    "plt.figure(figsize=(10, 3))\n",
    "\n",
    "plt.subplot(131)\n",
    "plt.scatter(z, vWW, s=1.0,c=z, cmap ='Blues')\n",
    "plt.xlabel(\"Bargaining Power\", fontsize = 10)\n",
    "plt.ylabel(\"Salary\",fontsize = 10)\n",
    "\n",
    "plt.subplot(132)\n",
    "plt.scatter(z, vaa, s=1.0, c=z,  cmap ='Blues')\n",
    "plt.xlabel(\"Bargaining Power\", fontsize = 10)\n",
    "plt.ylabel(\"Effort\",fontsize = 10)\n",
    "\n",
    "plt.subplot(133)\n",
    "plt.scatter(vUMoM, vVMoM,  s=1.0, c=z,  cmap ='Blues')\n",
    "plt.xlabel(\"Principal Utility\",fontsize = 10)\n",
    "plt.ylabel(\"Agent Utility\",fontsize = 10)\n",
    "\n",
    "#Adding color barcbar = plt.colorbar()\n",
    "cbar=plt.colorbar()\n",
    "#cbar.set_ticks([0,255])\n",
    "cbar.set_label('Bargaining Power',rotation = 270, labelpad=15.0)#, rotation=270)\n",
    "\n",
    "#changing space between plots\n",
    "plt.subplots_adjust(bottom=0.17, right=0.9, top=0.9,wspace = 0.32)\n",
    "\n",
    "plt.show()\n",
    "\n",
    "plt.savefig('./reports/MultObj_Perf_Inf_Complete_3x1.pdf')\n"
   ]
  },
  {
   "cell_type": "code",
   "execution_count": null,
   "metadata": {},
   "outputs": [],
   "source": []
  },
  {
   "cell_type": "code",
   "execution_count": null,
   "metadata": {
    "scrolled": true
   },
   "outputs": [],
   "source": [
    "plt.figure(figsize=(10, 3))\n",
    "\n",
    "plt.subplot(131)\n",
    "plt.scatter(vVMoM_50, vWW_50, lw=1.4, s=1.0, c=vVMoM_50,  cmap ='Blues')\n",
    "plt.xlabel(\"Agent Utility\",fontsize = 10)\n",
    "plt.ylabel(\"Salary\",fontsize = 10)\n",
    "plt.subplot(132)\n",
    "plt.scatter(vVMoM_50, vaa_50, lw=1.4, s=1.0,  c=vVMoM_50,  cmap ='Blues')\n",
    "plt.xlabel(\"Agent Utility\",fontsize=10)\n",
    "plt.ylabel(\"Effort\",fontsize=10)\n",
    "plt.subplot(133)\n",
    "plt.scatter(vUMoM_50, vVMoM_50, lw=1.4, s=1.0, c = vVMoM_50,  cmap ='Blues')\n",
    "plt.xlabel(\"Principal Utility\",fontsize=10)\n",
    "plt.ylabel(\"Agent Utility\",fontsize=10)\n",
    "\n",
    "cmap_blue = mpl.cm.Blues #using Blues\n",
    "\n",
    "#Adding color barcbar = plt.colorbar()\n",
    "cbar = plt.colorbar()\n",
    "\n",
    "cbar.set_label('Agent Utility',rotation = 270, labelpad=15.0)#, rotation=270)\n",
    "\n",
    "\n",
    "\n",
    "#changing space between plots\n",
    "plt.subplots_adjust(bottom=0.17, right=0.9, top=0.9,wspace = 0.32)\n",
    "plt.show()\n",
    "\n",
    "plt.savefig('./reports/MultObj_Perf_Inf_Reserve_3x1.pdf')"
   ]
  },
  {
   "cell_type": "code",
   "execution_count": null,
   "metadata": {},
   "outputs": [],
   "source": [
    "plt.figure(figsize = (5,4))\n",
    "\n",
    "\n",
    "\n",
    "plt.scatter(vU_50, vV_50, s=0.7, c=red_cara5, label='Standard')\n",
    "plt.scatter(vUMoM_50, vVMoM_50, s=0.7, c=blue_cara5, label='Multi-Objective')\n",
    "\n",
    "plt.xlabel(\"Principal Utility\",fontsize=10)\n",
    "plt.ylabel(\"Agent Utility\",fontsize=10)\n",
    "\n",
    "plt.xlim(0,3.1)\n",
    "plt.ylim(0,3.1)\n",
    "plt.legend(fontsize=8)\n",
    "\n",
    "plt.show()\n",
    "\n",
    "plt.savefig('./reports/First_Comparation_Perf_Inf.pdf')\n",
    "\n",
    "\n",
    "\n",
    "\n"
   ]
  },
  {
   "cell_type": "code",
   "execution_count": null,
   "metadata": {},
   "outputs": [],
   "source": [
    "plt.figure(figsize=(6, 5))\n",
    "\n",
    "plt.scatter(vU_50, vV_50,  s=2.0, c=red_cara5, label='Standard')\n",
    "plt.scatter(vUMoM, vVMoM,  s=2.0, c=blue_cara5, label='Multi-Objective')\n",
    "\n",
    "\n",
    "plt.xlabel(\"Principal Utility\",fontsize=10)\n",
    "plt.ylabel(\"Agent Utility\",fontsize=10)\n",
    "plt.legend(fontsize=8)\n",
    "\n",
    "#plt.xlim(0,4)\n",
    "#plt.ylim(0,4)\n",
    "\n",
    "plt.savefig('./reports/First_Comparation_Perf_Inf_Complete.pdf')\n"
   ]
  },
  {
   "cell_type": "code",
   "execution_count": null,
   "metadata": {
    "scrolled": true
   },
   "outputs": [],
   "source": [
    "plt.figure(figsize=(8, 4.2))\n",
    "\n",
    "plt.subplot(121)\n",
    "plt.scatter(vU_50, vV_50, s=2.0, c=red_cara5, label='Standard')\n",
    "plt.scatter(vUMoM_50, vVMoM_50, s=2.0, c=blue_cara5, label='Multi-Objective')\n",
    "plt.xlabel(\"Principal Utility\",fontsize=10)\n",
    "plt.ylabel(\"Agent Utility\",fontsize=10)\n",
    "plt.xlim(0,3.1)\n",
    "plt.ylim(0,3.1)\n",
    "plt.legend(fontsize=8)\n",
    "\n",
    "plt.subplot(122)\n",
    "plt.scatter(vU_50, vV_50,  s=2.0, c=red_cara5, label='Standard')\n",
    "plt.scatter(vUMoM, vVMoM,  s=2.0, c=blue_cara5, label='Multi-Objective')\n",
    "plt.xlabel(\"Principal Utility\",fontsize=10)\n",
    "plt.ylabel(\"Agent Utility\",fontsize=10)\n",
    "plt.legend(fontsize=8)\n",
    "\n",
    "plt.subplots_adjust(bottom=0.17, right=0.9, top=0.9,wspace = 0.32)\n",
    "plt.show()\n",
    "\n",
    "plt.savefig('./reports/First_Comparation_Perf_Inf_General.pdf')\n",
    "\n"
   ]
  },
  {
   "cell_type": "markdown",
   "metadata": {},
   "source": [
    "# Genetic Algorithm\n",
    "        "
   ]
  },
  {
   "cell_type": "code",
   "execution_count": null,
   "metadata": {},
   "outputs": [],
   "source": [
    "# importing perfect information methods and variables\n",
    "import src.perfectga as pe"
   ]
  },
  {
   "cell_type": "markdown",
   "metadata": {},
   "source": [
    "## Ploting"
   ]
  },
  {
   "cell_type": "code",
   "execution_count": null,
   "metadata": {},
   "outputs": [],
   "source": [
    "# Creating a database and loading from disc,\n",
    "# run this cell each time you reopen the jupyter notebook\n",
    "name = \"static_perf_10000_h0.5_cro_1.0_mut_0.2_key_49f3dd4\"\n",
    "\n",
    "try:\n",
    "    db_sims = pd.read_csv('./data/{}.csv'.format(name)).set_index('sim')\n",
    "except:\n",
    "    print(\"Impossible to retrieve {}.cvc\".format(name))\n",
    "\n",
    "#Cleaning dataframe, changing index,changing columns name in case they are wrong\n",
    "db_sims.rename(columns= {'Unnamed: 0':'sim','cara':'risk_aversion_coefficient'},inplace=True)\n",
    "#Cleaning dataframe, changing index,changing columns name in case they are wrong\n",
    "#db_sims_pi.rename(columns= {'Unnamed: 0':'index','cara':'risk_aversion_coefficient'},\n",
    "#                  inplace=True)\n",
    "#db_sims_pi.set_index('sim',inplace= True)\n",
    "db_sims.columns = pe.cols[1:]\n",
    "#printing head of dataframe,checkingif everything is ok\n",
    "db_sims.head()"
   ]
  },
  {
   "cell_type": "code",
   "execution_count": null,
   "metadata": {
    "tags": []
   },
   "outputs": [],
   "source": [
    "print(db_sims['cutoff'].unique())\n",
    "df = db_sims[(db_sims['risk_averse']==0.5) & ~(db_sims['cutoff']==0)]\n",
    "fig = df.plot.scatter(x = 'princ', y = 'agent',\n",
    "                      c = 'cutoff',\n",
    "                      colormap ='Blues',\n",
    "                      lw = 1.4,\n",
    "                      s = 1.0,\n",
    "                      alpha = 1)\n",
    "plt.ylabel(\"Agent Utility\", fontsize=10)\n",
    "plt.xlabel(\"Principal Utility\", fontsize=10);\n",
    "#plt.xlim(0,4)\n",
    "#plt.ylim(0,11)\n",
    "\n",
    "\n",
    "#plt.savefig('./reports/Pareto_Front_500.pdf')\n"
   ]
  },
  {
   "cell_type": "markdown",
   "metadata": {},
   "source": [
    "## Ploting Merged Models"
   ]
  },
  {
   "cell_type": "code",
   "execution_count": null,
   "metadata": {},
   "outputs": [],
   "source": [
    "#Data from Genetic Algorithm Simulation\n",
    "final_cutoff = max(db_sims['cutoff'])\n",
    "U_ga1 = db_sims[(db_sims['risk_averse']==0.5) & (db_sims['cutoff']==final_cutoff)]['princ']\n",
    "V_ga1 = db_sims[(db_sims['risk_averse']==0.5) & (db_sims['cutoff']==final_cutoff)]['agent']\n",
    "w_ga1 = db_sims[(db_sims['risk_averse']==0.5) & (db_sims['cutoff']==final_cutoff)]['wage']\n",
    "a_ga1 = db_sims[(db_sims['risk_averse']==0.5) & (db_sims['cutoff']==final_cutoff)]['effort']\n",
    "\n",
    "\n"
   ]
  },
  {
   "cell_type": "code",
   "execution_count": null,
   "metadata": {
    "jupyter": {
     "outputs_hidden": true
    },
    "tags": []
   },
   "outputs": [],
   "source": [
    "db_sims =db_sims[(db_sims['risk_averse']==0.5) & (db_sims['cutoff']==final_cutoff)]\n",
    "print(\"total population  \", len(db_sims))\n",
    "\n",
    "ind=[1, 3250, 7500, 10850, 14907]\n",
    "ind=[1,1500,3000,4500, 6425]\n",
    "\n",
    "for i in range(5):\n",
    "    print(U_ga11[ind[i]])"
   ]
  },
  {
   "cell_type": "code",
   "execution_count": null,
   "metadata": {
    "scrolled": true
   },
   "outputs": [],
   "source": [
    "plt.figure(figsize=(8, 4))\n",
    "\n",
    "plt.subplot(121)\n",
    "plt.scatter(w_ga1 , a_ga1, color ='#c9d1d3', s=1.0, alpha=1)\n",
    "plt.xlabel(\"Salary\",fontsize=10)\n",
    "plt.ylabel(\"Effort\",fontsize=10)\n",
    "\n",
    "plt.subplot(122)\n",
    "plt.scatter(U_ga1, V_ga1, color ='#c9d1d3', s=1.0, alpha=1)\n",
    "plt.xlabel(\"Principal Utility\",fontsize=10)\n",
    "plt.ylabel(\"Agent Utility\",fontsize=10)\n",
    "plt.show()\n",
    "\n",
    "\n",
    "#plt.savefig('./reports/GA_Perf_Inf.pdf')\n",
    "\n",
    "plt.show()\n"
   ]
  },
  {
   "cell_type": "code",
   "execution_count": null,
   "metadata": {
    "scrolled": true
   },
   "outputs": [],
   "source": [
    "plt.figure(figsize=(6, 4))\n",
    "\n",
    "plt.scatter(U_ga1, V_ga1, color ='#fcbba1', s=1.0, alpha=1)\n",
    "plt.xlabel(\"Principal Utility\",fontsize=10)\n",
    "plt.ylabel(\"Agent Utility\",fontsize=10)\n",
    "plt.show()\n",
    "\n",
    "#plt.savefig('./reports/GA_Perf_Info_evolution.pdf')\n",
    "#plt.savefig('MultiObj_Model_Perfect_InformationReserve.eps')\n",
    "plt.show()"
   ]
  },
  {
   "cell_type": "code",
   "execution_count": null,
   "metadata": {},
   "outputs": [],
   "source": [
    "plt.figure(figsize=(8, 4))\n",
    "\n",
    "#ind=[94741, 98000, 102000, 106000, 109636]\n",
    "colors = [\"#00909e\", \"violet\", \"r\", \"#465881\", \"#f39422\"]\n",
    "marks = [\">\", '^', (5,0), '+', (5,2)]#, (5,1)]\n",
    "\n",
    "plt.subplot(121)\n",
    "plt.scatter(w_ga1, a_ga1, color ='#c9d1d3',s=1.0, alpha=1)\n",
    "plt.xlabel(\"Salary\",fontsize=10)\n",
    "plt.ylabel(\"Effort\",fontsize=10)\n",
    "for i in range(5):\n",
    "    plt.scatter(w_ga1[ind[i]], a_ga1[ind[i]],\n",
    "                color = colors[i],\n",
    "                marker= marks[i],\n",
    "                s=16.0,\n",
    "                alpha=1)\n",
    "plt.subplot(122)\n",
    "plt.scatter(U_ga1, V_ga1, color ='#c9d1d3', s=1.0, alpha=1)\n",
    "plt.xlabel(\"Principal Utility\",fontsize=10)\n",
    "plt.ylabel(\"Agent Utility\",fontsize=10)\n",
    "for i in range(5):\n",
    "    plt.scatter(U_ga1[ind[i]], V_ga1[ind[i]],\n",
    "                color = colors[i],\n",
    "                marker= marks[i],\n",
    "                s=16.0,\n",
    "                alpha=1 )\n",
    "plt.show()\n",
    "\n",
    "\n",
    "\n",
    "plt.savefig('./reports/GA_Perf_Inf_Points.pdf')\n",
    "\n",
    "\n",
    "plt.show()"
   ]
  },
  {
   "cell_type": "markdown",
   "metadata": {},
   "source": [
    "### General Comparation"
   ]
  },
  {
   "cell_type": "code",
   "execution_count": null,
   "metadata": {},
   "outputs": [],
   "source": [
    "plt.figure(figsize=(8, 3))\n",
    "\n",
    "plt.subplot(121)\n",
    "plt.scatter(vU_50, vV_50, s=2.0, c='#99000d', label='Standard')\n",
    "plt.scatter(vUMoM_50, vVMoM_50, s=2.0, c='#023858', label='Multi-Objective')\n",
    "plt.scatter(U_ga1, V_ga1, s=1.0, color ='#c9d1d3', label='Genetic Algorithm')\n",
    "plt.xlabel(\"Principal Utility\",fontsize=10)\n",
    "plt.ylabel(\"Agent Utility\",fontsize=10)\n",
    "plt.xlim(0,3.1)\n",
    "plt.ylim(0,3.1)\n",
    "plt.legend(fontsize=8)\n",
    "\n",
    "plt.subplot(122)\n",
    "plt.scatter(vU_50, vV_50,  s=2.0, c='#99000d', label='Standard')\n",
    "plt.scatter(vUMoM, vVMoM,  s=2.0, c='#023858', label='Multi-Objective')\n",
    "plt.scatter(U_ga1, V_ga1, s=1.0, color ='#c9d1d3', label='Genetic Algorithm')\n",
    "plt.xlabel(\"Principal Utility\",fontsize=10)\n",
    "plt.ylabel(\"Agent Utility\",fontsize=10)\n",
    "plt.legend(fontsize=8)\n",
    "plt.subplots_adjust(bottom=0.17, right=0.9, top=0.9,wspace = 0.32)\n",
    "\n",
    "plt.show()\n",
    "\n",
    "plt.savefig('./reports/Second_Comparation_Perf_Inf_General.pdf')\n"
   ]
  },
  {
   "cell_type": "code",
   "execution_count": null,
   "metadata": {},
   "outputs": [],
   "source": [
    "# Creating a database and loading from disc,\n",
    "# run this cell each time you reopen the jupyter notebook\n",
    "# If there's no database with that name, it will create a new dataframe.\n",
    "# After the first simulation will be store.\n",
    "\n",
    "name = 'static_perf_10000_fix_cro_1.0_mut_0.2_key_6118920'\n",
    "\n",
    "archive = './data/'+name\n",
    "#archive = name\n",
    "try:\n",
    "    db_sims_pi = pd.read_csv('{}.csv'.format(archive))#.set_index('sim')\n",
    "except:\n",
    "    print(\"Impossible to retrieve {}.cvc\".format(archive))\n",
    "\n",
    "#Cleaning dataframe, changing index,changing columns name in case they are wrong\n",
    "#db_sims_pi.rename(columns= {'Unnamed: 0':'index','cara':'risk_aversion_coefficient'},\n",
    "#                  inplace=True)\n",
    "#db_sims_pi.set_index('index',inplace= True)\n",
    "#printing head of dataframe,checkingif everything is ok\n",
    "db_sims_pi.head()\n"
   ]
  },
  {
   "cell_type": "code",
   "execution_count": null,
   "metadata": {
    "scrolled": true
   },
   "outputs": [],
   "source": [
    "plt.figure(figsize = (5,4))\n",
    "\n",
    "db_sims = db_sims_pi\n",
    "U_ga_temp = list(db_sims[(db_sims['RiskAverse']==0.5) & (db_sims['cutoff']==10000) & (db_sims['vV']>=0)]['vU'])\n",
    "V_ga_temp = list(db_sims[(db_sims['RiskAverse']==0.5) & (db_sims['cutoff']==10000) & (db_sims['vV']>=0)]['vV'])\n",
    "\n",
    "plt.scatter(U_ga_temp, V_ga_temp, s=0.7, color ='gray', label='Genetic Algorithm')\n",
    "plt.scatter(vU_50, vV_50, s=0.7, c=red_cara5, label='Standard')\n",
    "plt.scatter(vUMoM_50, vVMoM_50, s=0.7, c=blue_cara5, label='Multi-Objective')\n",
    "\n",
    "plt.xlabel(\"Principal Utility\",fontsize=10)\n",
    "plt.ylabel(\"Agent Utility\",fontsize=10)\n",
    "plt.xlim(0,3.1)\n",
    "plt.ylim(0,3.1)\n",
    "plt.legend(fontsize=8)\n",
    "\n",
    "\n",
    "plt.show()\n",
    "plt.savefig('./reports/second_Comparation_Perf_Inf_General_3models.pdf')\n"
   ]
  },
  {
   "cell_type": "code",
   "execution_count": null,
   "metadata": {},
   "outputs": [],
   "source": []
  }
 ],
 "metadata": {
  "@webio": {
   "lastCommId": null,
   "lastKernelId": null
  },
  "hide_input": false,
  "kernelspec": {
   "display_name": "Python 3",
   "language": "python",
   "name": "python3"
  },
  "language_info": {
   "codemirror_mode": {
    "name": "ipython",
    "version": 3
   },
   "file_extension": ".py",
   "mimetype": "text/x-python",
   "name": "python",
   "nbconvert_exporter": "python",
   "pygments_lexer": "ipython3",
   "version": "3.7.3"
  },
  "toc": {
   "base_numbering": 1,
   "nav_menu": {},
   "number_sections": true,
   "sideBar": true,
   "skip_h1_title": false,
   "title_cell": "Table of Contents",
   "title_sidebar": "Contents",
   "toc_cell": false,
   "toc_position": {
    "height": "calc(100% - 180px)",
    "left": "10px",
    "top": "150px",
    "width": "196.472px"
   },
   "toc_section_display": true,
   "toc_window_display": true
  },
  "varInspector": {
   "cols": {
    "lenName": 16,
    "lenType": 16,
    "lenVar": 40
   },
   "kernels_config": {
    "python": {
     "delete_cmd_postfix": "",
     "delete_cmd_prefix": "del ",
     "library": "var_list.py",
     "varRefreshCmd": "print(var_dic_list())"
    },
    "r": {
     "delete_cmd_postfix": ") ",
     "delete_cmd_prefix": "rm(",
     "library": "var_list.r",
     "varRefreshCmd": "cat(var_dic_list()) "
    }
   },
   "types_to_exclude": [
    "module",
    "function",
    "builtin_function_or_method",
    "instance",
    "_Feature"
   ],
   "window_display": true
  }
 },
 "nbformat": 4,
 "nbformat_minor": 4
}
