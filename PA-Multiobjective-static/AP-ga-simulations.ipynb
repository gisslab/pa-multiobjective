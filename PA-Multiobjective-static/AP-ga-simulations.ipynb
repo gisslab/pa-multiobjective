{
 "cells": [
  {
   "cell_type": "markdown",
   "metadata": {
    "toc": true
   },
   "source": [
    "<h1>Table of Contents<span class=\"tocSkip\"></span></h1>\n",
    "<div class=\"toc\"><ul class=\"toc-item\"><li><span><a href=\"#Genetic-Algorithm\" data-toc-modified-id=\"Genetic-Algorithm-1\"><span class=\"toc-item-num\">1&nbsp;&nbsp;</span>Genetic Algorithm</a></span><ul class=\"toc-item\"><li><span><a href=\"#Libraries\" data-toc-modified-id=\"Libraries-1.1\"><span class=\"toc-item-num\">1.1&nbsp;&nbsp;</span>Libraries</a></span></li><li><span><a href=\"#Parameters-and-Variables\" data-toc-modified-id=\"Parameters-and-Variables-1.2\"><span class=\"toc-item-num\">1.2&nbsp;&nbsp;</span>Parameters and Variables</a></span></li><li><span><a href=\"#Perfect-Information\" data-toc-modified-id=\"Perfect-Information-1.3\"><span class=\"toc-item-num\">1.3&nbsp;&nbsp;</span>Perfect Information</a></span><ul class=\"toc-item\"><li><span><a href=\"#Simulation\" data-toc-modified-id=\"Simulation-1.3.1\"><span class=\"toc-item-num\">1.3.1&nbsp;&nbsp;</span>Simulation</a></span><ul class=\"toc-item\"><li><span><a href=\"#By-risk-aversion\" data-toc-modified-id=\"By-risk-aversion-1.3.1.1\"><span class=\"toc-item-num\">1.3.1.1&nbsp;&nbsp;</span>By risk aversion</a></span></li><li><span><a href=\"#By-crossover-and-mutation\" data-toc-modified-id=\"By-crossover-and-mutation-1.3.1.2\"><span class=\"toc-item-num\">1.3.1.2&nbsp;&nbsp;</span>By crossover and mutation</a></span></li><li><span><a href=\"#By-initial-points\" data-toc-modified-id=\"By-initial-points-1.3.1.3\"><span class=\"toc-item-num\">1.3.1.3&nbsp;&nbsp;</span>By initial points</a></span></li></ul></li><li><span><a href=\"#Ploting\" data-toc-modified-id=\"Ploting-1.3.2\"><span class=\"toc-item-num\">1.3.2&nbsp;&nbsp;</span>Ploting</a></span><ul class=\"toc-item\"><li><span><a href=\"#Parameters\" data-toc-modified-id=\"Parameters-1.3.2.1\"><span class=\"toc-item-num\">1.3.2.1&nbsp;&nbsp;</span>Parameters</a></span></li><li><span><a href=\"#Specific-Simulation\" data-toc-modified-id=\"Specific-Simulation-1.3.2.2\"><span class=\"toc-item-num\">1.3.2.2&nbsp;&nbsp;</span>Specific Simulation</a></span></li></ul></li></ul></li><li><span><a href=\"#Imperfect-Information\" data-toc-modified-id=\"Imperfect-Information-1.4\"><span class=\"toc-item-num\">1.4&nbsp;&nbsp;</span>Imperfect Information</a></span><ul class=\"toc-item\"><li><span><a href=\"#Parameters,-Variables-and-Methods\" data-toc-modified-id=\"Parameters,-Variables-and-Methods-1.4.1\"><span class=\"toc-item-num\">1.4.1&nbsp;&nbsp;</span>Parameters, Variables and Methods</a></span></li><li><span><a href=\"#Simulation\" data-toc-modified-id=\"Simulation-1.4.2\"><span class=\"toc-item-num\">1.4.2&nbsp;&nbsp;</span>Simulation</a></span><ul class=\"toc-item\"><li><span><a href=\"#By-risk-aversion\" data-toc-modified-id=\"By-risk-aversion-1.4.2.1\"><span class=\"toc-item-num\">1.4.2.1&nbsp;&nbsp;</span>By risk aversion</a></span></li><li><span><a href=\"#By-crossover-and-Mutation\" data-toc-modified-id=\"By-crossover-and-Mutation-1.4.2.2\"><span class=\"toc-item-num\">1.4.2.2&nbsp;&nbsp;</span>By crossover and Mutation</a></span></li><li><span><a href=\"#By-initial-Points\" data-toc-modified-id=\"By-initial-Points-1.4.2.3\"><span class=\"toc-item-num\">1.4.2.3&nbsp;&nbsp;</span>By initial Points</a></span></li></ul></li><li><span><a href=\"#Ploting\" data-toc-modified-id=\"Ploting-1.4.3\"><span class=\"toc-item-num\">1.4.3&nbsp;&nbsp;</span>Ploting</a></span><ul class=\"toc-item\"><li><span><a href=\"#Parameters\" data-toc-modified-id=\"Parameters-1.4.3.1\"><span class=\"toc-item-num\">1.4.3.1&nbsp;&nbsp;</span>Parameters</a></span></li><li><span><a href=\"#Specific-simulation\" data-toc-modified-id=\"Specific-simulation-1.4.3.2\"><span class=\"toc-item-num\">1.4.3.2&nbsp;&nbsp;</span>Specific simulation</a></span></li></ul></li></ul></li><li><span><a href=\"#Ploting-Both-Models\" data-toc-modified-id=\"Ploting-Both-Models-1.5\"><span class=\"toc-item-num\">1.5&nbsp;&nbsp;</span>Ploting Both Models</a></span></li></ul></li></ul></div>"
   ]
  },
  {
   "cell_type": "markdown",
   "metadata": {},
   "source": [
    "# Genetic Algorithm "
   ]
  },
  {
   "cell_type": "markdown",
   "metadata": {},
   "source": [
    "## Libraries"
   ]
  },
  {
   "cell_type": "code",
   "execution_count": 1,
   "metadata": {
    "ExecuteTime": {
     "end_time": "2020-06-25T21:56:24.977163Z",
     "start_time": "2020-06-25T21:56:23.849103Z"
    }
   },
   "outputs": [],
   "source": [
    "# Importing libriries\n",
    "\n",
    "#from random import Random\n",
    "from time import time\n",
    "import inspyred\n",
    "import math\n",
    "#from datetime import datetime\n",
    "import pandas as pd\n",
    "import numpy as np\n",
    "import os\n",
    "from matplotlib.ticker import ScalarFormatter, AutoMinorLocator\n",
    "import matplotlib as mpl\n",
    "import matplotlib.pyplot as plt\n",
    "from numpy import random\n",
    "from scipy.optimize import fsolve\n",
    "import uuid #unique id\n",
    "import sys\n",
    "\n",
    "\n",
    "# this code is to enable the jupyter black theme:\n",
    "#from jupyterthemes import jtplot\n",
    "#jtplot.style( context='notebook',grid=False, ticks =True, fscale =1)\n",
    "\n",
    "#nice graphs in jupyter:\n",
    "%matplotlib notebook  \n"
   ]
  },
  {
   "cell_type": "markdown",
   "metadata": {},
   "source": [
    "## Parameters and Variables"
   ]
  },
  {
   "cell_type": "code",
   "execution_count": 2,
   "metadata": {},
   "outputs": [],
   "source": [
    "#importing our .py's files, in particular, global  constant variables. \n",
    "from src.params import limit, YH, YL, n_inputs\n"
   ]
  },
  {
   "cell_type": "code",
   "execution_count": 3,
   "metadata": {
    "ExecuteTime": {
     "end_time": "2020-06-25T21:58:27.875805Z",
     "start_time": "2020-06-25T21:58:27.862756Z"
    }
   },
   "outputs": [],
   "source": [
    "\n",
    "#########################################################################################\n",
    "# starting points \n",
    "\n",
    "# temporal database\n",
    "db_sims = pd.DataFrame([], columns = [] ) \n",
    "\n",
    "\n",
    "fix_1 = [[x,1-x] for x in np.arange(0, 1.1, 0.1)]\n",
    "fix_2 = [[0,2],[0.2,1.8],[0.4,1.6],[0.6,1.4],[0.8,1.2] ,[1,1],[1.2,0.8],[1.4,0.6],[1.6,0.4],[1.8,0.2],[2,0]]\n",
    "\n",
    "# these points are taken along the Pareto frontier of a final iteration, with cara=0.5\n",
    "# perfect information = [[wage, effort],...]\n",
    "fix_per = [[2.139879,0.289246],[2.477386,0.274471],[1.933405,0.375377],[1.64322,0.416202],[1.361385,0.538513],\n",
    "          [1.143557,0.614495],[0.89272,0.72385],[0.709991,0.811314],[0.596134,1.003939],[0.369252,1.214565]]\n",
    "# imperfect information = [[low wage, high wage],...]\n",
    "fix_imp = [[2.0,4.0],[1.483575,3.318113],[1.207703,3.143002],[0.953215,2.780622],[0.846049,2.584232],\n",
    "          [0.580762,2.264117],[0.414088,1.98788],[0.169402,1.619359],[0.064209,1.363026],[0.0,0.785495]]\n",
    "# these points are random\n",
    "fix_per_random = [[random.uniform(0.0,YL),random.uniform(0.0,YH)] for x in range(100)]\n",
    "fix_imp_random = [[random.uniform(0.0,YH),random.uniform(0.0,2)] for x in range(100)]\n",
    "\n",
    "\n",
    "# fonts' size\n",
    "SMALLER_SIZE = 7\n",
    "SMALL_SIZE = 10\n",
    "MEDIUM_SIZE = 12\n",
    "BIGGER_SIZE = 15\n",
    "\n",
    "# font style\n",
    "plt.rcParams[\"font.family\"] = \"Times New Roman\"\n"
   ]
  },
  {
   "cell_type": "markdown",
   "metadata": {},
   "source": [
    "## Perfect Information"
   ]
  },
  {
   "cell_type": "code",
   "execution_count": 4,
   "metadata": {},
   "outputs": [],
   "source": [
    "# importing perfect information methods and variables\n",
    "import src.perfectga as pe"
   ]
  },
  {
   "cell_type": "markdown",
   "metadata": {},
   "source": [
    "### Simulation\n"
   ]
  },
  {
   "cell_type": "markdown",
   "metadata": {},
   "source": [
    "#### By risk aversion"
   ]
  },
  {
   "cell_type": "code",
   "execution_count": 7,
   "metadata": {
    "ExecuteTime": {
     "end_time": "2020-06-25T22:01:51.564079Z",
     "start_time": "2020-06-25T21:58:45.110334Z"
    },
    "tags": []
   },
   "outputs": [
    {
     "output_type": "stream",
     "name": "stdout",
     "text": "***************new simulation******************\n********  Seeding mode enable ********\narchive params : static_perf_1000_h0.3_cro_0.8_mut_0.1_key_\n***generation***      0  -- ***init Pop*** 1396 : ***pop size*** 324 : ***num eval*** 1396 \n******gen****** :::  0  ;*****HV****** :::  3.446721217226144 ;***points in database*** ::: 324\n***generation***     30  -- ***init Pop*** 1396 : ***pop size*** 2374 : ***num eval*** 43276 \n******gen****** :::  30  ;*****HV****** :::  3.497261419152537 ;***points in database*** ::: 2698\n"
    }
   ],
   "source": [
    "#list of cara values to simulate with current parameters\n",
    "risk_averse_list = [ 0.3, 0.5]\n",
    "#risk_averse_list = [ 0.10, 0.30, 0.70, 0.90]\n",
    "\n",
    "\n",
    "# params\n",
    "pe.max_gen = 1000\n",
    "pe.init_pop_random = False\n",
    "pe.init_pop_size = 10\n",
    "pe.crossover = 0.8\n",
    "pe.mutation = 0.1\n",
    "\n",
    "# arguments from simulate\n",
    "args = []\n",
    "\n",
    "# code for extracting an old simulation to use as seed\n",
    "name_seed = 'static_perf_1000_h0.3_cro_0.8_mut_0.05_key_3679063'\n",
    "data = pd.read_csv('./data/{}.csv'.format(name_seed))\n",
    "data = data[['wage', 'effort']]\n",
    "seeds = data.to_numpy().tolist()\n",
    "\n",
    "### simulating for each element of risk_averse_list\n",
    "for cara in risk_averse_list:\n",
    "    print(\"***************new simulation******************\")\n",
    "    # setting variables for current simulation\n",
    "    pe.h = cara\n",
    "\n",
    "    # reset seeding\n",
    "    pe.reset_seeding(seeds) #fix_per\n",
    "    # reinit database and variables\n",
    "    pe.reinit_variables_perf(pe.h)\n",
    "    # simulating with global parameters using the perfect information model\n",
    "    db_sims, args, df_hyp= pe.simulate_perf()\n",
    "    \n"
   ]
  },
  {
   "cell_type": "code",
   "execution_count": null,
   "metadata": {},
   "outputs": [],
   "source": [
    "db_sims.head()"
   ]
  },
  {
   "cell_type": "markdown",
   "metadata": {},
   "source": [
    "#### By crossover and mutation"
   ]
  },
  {
   "cell_type": "code",
   "execution_count": null,
   "metadata": {
    "ExecuteTime": {
     "end_time": "2020-06-25T22:04:08.816999Z",
     "start_time": "2020-06-25T22:04:08.809019Z"
    }
   },
   "outputs": [],
   "source": [
    "# Simulations per crossover and mutation\n",
    "\n",
    "# list of crossover indexes\n",
    "cross_list = [0.4,0.6,0.8,1.0]\n",
    "cross_list = [0.4,0.6]\n",
    "\n",
    "# list of mutation indexes\n",
    "muts_list = [0.01,0.05,0.1,0.15,0.2]\n",
    "muts_list = [0.01,0.05]\n",
    "\n",
    "# assign risk aversion coefficient\n",
    "pe.h = 0.5\n",
    "\n",
    "# other paramteres \n",
    "pe.max_gen = 1000\n",
    "\n",
    "# arguments from simulate\n",
    "args = []\n",
    "         \n",
    "# data frame of crossover and mutations\n",
    "name_cr_mu_df = 'static_perf_cross_mut_'+str(pe.max_gen)+'_h'+str(pe.h)+'_13_jul'\n",
    "cols_cr_mut = ['sim','cross', 'mut', 'final_pop','hv']\n",
    "db_cr_mut = pd.DataFrame([], columns = cols_cr_mut ).set_index('sim') \n",
    "         "
   ]
  },
  {
   "cell_type": "code",
   "execution_count": null,
   "metadata": {
    "ExecuteTime": {
     "start_time": "2020-06-25T22:04:14.312Z"
    },
    "tags": []
   },
   "outputs": [],
   "source": [
    "# loop over crossover and mutation indexes\n",
    "for cr in cross_list:\n",
    "    for mu in muts_list:\n",
    "        # assigning values to global variables of crossover and mutation\n",
    "        pe.crossover = cr\n",
    "        pe.mutation = mu\n",
    "        \n",
    "        print(\"***************new simulation******************\")\n",
    "        print(\"*****\",\"crossover: \", pe.crossover,\"mutation: \",pe.mutation,\"*****\")\n",
    "        print(\"***************new simulation******************\")\n",
    "        \n",
    "        # setting variables for current simulation\n",
    "        # reset seeding\n",
    "        pe.reset_seeding(fix_per)\n",
    "        # reinit database and variables\n",
    "        pe.reinit_variables_perf()\n",
    "        \n",
    "        # simulate\n",
    "        db_sims, args, df_hyp= pe.simulate_perf()\n",
    "         \n",
    "        #adding result of simulation to cross and mut data frame\n",
    "        hv_ = df_hyp['indicator'].loc[max(df_hyp.index)]\n",
    "        final_pop_ = len(db_sims[db_sims['gen']==pe.max_gen])\n",
    "        new_row = {'sim':db_sims.index[0], 'cross':cr, 'mut':mu, 'final_pop':final_pop_,'hv': hv_}\n",
    "        #append row to the dataframe\n",
    "        db_cr_mut = db_cr_mut.append(new_row, ignore_index=True)\n",
    "         \n",
    "         # saving database of crossover and mutation\n",
    "        db_cr_mut.to_csv('./data/{}.csv'.format(name_cr_mu_df))\n",
    "         \n",
    "         "
   ]
  },
  {
   "cell_type": "markdown",
   "metadata": {},
   "source": [
    "#### By initial points"
   ]
  },
  {
   "cell_type": "code",
   "execution_count": null,
   "metadata": {},
   "outputs": [],
   "source": [
    "# Simulations per initial points\n",
    "\n",
    "# number of simulations\n",
    "tot_sim = 2\n",
    "\n",
    "# setting parameters\n",
    "pe.crossover = 1\n",
    "pe.mutation = 0.2\n",
    "pe.max_gen =1000\n",
    "# pe.max_gen =10000\n",
    "pe.init_pop_size = 50\n",
    "pe.init_pop_random = True\n",
    "\n",
    "# assign risk averse coefficient\n",
    "pe.h = 0.5\n",
    "# arguments from simulate\n",
    "args = []\n",
    "         \n",
    "# data frame of crossover and mutations\n",
    "name_cr_mu_df = 'static_perf_cross_'+str(pe.crossover)+'_mut_'+str(pe.mutation)+'_rd_pop_'+str(pe.max_gen)+'_h'+str(pe.h)+'_8jul'\n",
    "cols_cr_mut = ['sim','cross', 'mut', 'final_pop','hv']\n",
    "db_cr_mut = pd.DataFrame([], columns = cols_cr_mut ).set_index('sim') "
   ]
  },
  {
   "cell_type": "code",
   "execution_count": null,
   "metadata": {
    "tags": []
   },
   "outputs": [],
   "source": [
    "\n",
    "\n",
    "# loops over number of simulations\n",
    "for x in range(tot_sim):        \n",
    "    print(\"***************new simulation******************\")\n",
    "\n",
    "    # setting variables for current simulation\n",
    "    # reset seeding\n",
    "    pe.reset_seeding(fix_per)\n",
    "    # reinit database and variables\n",
    "    pe.reinit_variables_perf()\n",
    "\n",
    "    # simulate\n",
    "    db_sims, args, df_hyp= pe.simulate_perf()\n",
    "\n",
    "    #adding result of simulation to cross and mut data frame\n",
    "    hv_ = df_hyp['indicator'].loc[max(df_hyp.index)]\n",
    "    final_pop_ = len(db_sims[db_sims['gen']==pe.max_gen])\n",
    "    new_row = {'sim':db_sims.index[0], 'cross':pe.crossover, 'mut':pe.mutation,\n",
    "               'final_pop':final_pop_,'hv': hv_}\n",
    "    #append row to the dataframe\n",
    "    db_cr_mut = db_cr_mut.append(new_row, ignore_index=True)\n",
    "\n",
    "     # saving database of crossover and mutation\n",
    "    db_cr_mut.to_csv('./data/{}.csv'.format(name_cr_mu_df))\n",
    "         "
   ]
  },
  {
   "cell_type": "code",
   "execution_count": null,
   "metadata": {},
   "outputs": [],
   "source": [
    "db_cr_mut"
   ]
  },
  {
   "cell_type": "markdown",
   "metadata": {},
   "source": [
    "### Ploting"
   ]
  },
  {
   "cell_type": "markdown",
   "metadata": {},
   "source": [
    "#### Parameters"
   ]
  },
  {
   "cell_type": "code",
   "execution_count": null,
   "metadata": {
    "tags": []
   },
   "outputs": [],
   "source": [
    "# Creating a database and loading from disc, \n",
    "# run this cell each time you reopen the jupyter notebook\n",
    "# If there's no database with that name, it will create a new dataframe. \n",
    "# After the first simulation will be store. \n",
    "\n",
    "name_params = './data/static_perf_cross_mut_'+str(10000)+'_h50_27_jun'\n",
    "name_params = './data/static_perf_cross_mut_10000_h50_25_jun'\n",
    "try:\n",
    "    db_params = pd.read_csv('{}.csv'.format(name_params)).set_index('sim')\n",
    "except:\n",
    "    print(\"Impossible to retrieve {}.cvc\".format(name_params))\n",
    "    \n",
    "   \n",
    "# Cleaning dataframe, changing index,changing columns name in case they are wrong\n",
    "#db_sims_pi.rename(columns= {'Unnamed: 0':'sim',inplace=True)\n",
    "#db_sims.set_index('sim',inplace= True)\n",
    "db_params.drop(columns=['Unnamed: 0'],inplace=True)\n",
    "\n",
    "# list of crossover indexes\n",
    "cross_list = list(db_params['cross'].unique())\n",
    "\n",
    "muts_list = list(db_params['mut'].unique())\n",
    "\n",
    "#printing head of dataframe,checking if everything is ok\n",
    "db_params"
   ]
  },
  {
   "cell_type": "code",
   "execution_count": null,
   "metadata": {
    "scrolled": true
   },
   "outputs": [],
   "source": [
    "# hypervolume\n",
    "\n",
    "%matplotlib inline\n",
    "\n",
    "weight = 4\n",
    "height = 5\n",
    "density = 100\n",
    "\n",
    "plt.figure(figsize=(weight, height), dpi=density)\n",
    "\n",
    "\n",
    "matrix_pos =[[(str(cr)+\" \"+str(mu)) for cr in db_params['cross'].unique()] for mu in db_params['mut'].unique()]\n",
    "maxim_hv = max(db_params['hv'])\n",
    "matrix =[[maxim_hv-np.average(db_params[(cr==db_params['cross']) & (mu == db_params['mut'])]['hv'])\n",
    "          for cr in db_params['cross'].unique()] for mu in db_params['mut'].unique()]\n",
    "\n",
    "\n",
    "color_map = plt.imshow(matrix)\n",
    "color_map.set_cmap(\"Reds_r\")\n",
    "ax = plt.gca()\n",
    "ax.set_xticks([0,1,2,3])\n",
    "ax.set_xticklabels(cross_list)\n",
    "ax.set_yticks([0,1,2,3,4])\n",
    "ax.set_yticklabels(muts_list)\n",
    "\n",
    "ax.set_ylabel('mutation', fontsize = 12)\n",
    "ax.set_xlabel('crossover', fontsize = 12)\n",
    "ax.set_title('Hypervolume Index')\n",
    "\n",
    "plt.gcf().subplots_adjust(left=0.18)\n",
    "\n",
    "plt.savefig(\"./reports/hv_comparison_per_10000_h50_cross_mut.pdf\")\n",
    "# print(matrix)\n",
    "# print(matrix_pos)"
   ]
  },
  {
   "cell_type": "code",
   "execution_count": null,
   "metadata": {},
   "outputs": [],
   "source": [
    "#population\n",
    "\n",
    "plt.figure(figsize=(weight, height), dpi=density)\n",
    "\n",
    "maxim_pop = max(db_params['final_pop'])\n",
    "matrix =[[maxim_hv-np.average(db_params[(cr==db_params['cross']) & (mu == db_params['mut'])]['final_pop'])\n",
    "          for cr in db_params['cross'].unique()] for mu in db_params['mut'].unique()]\n",
    "\n",
    "\n",
    "color_map = plt.imshow(matrix)\n",
    "color_map.set_cmap(\"Reds_r\")\n",
    "ax = plt.gca()\n",
    "ax.set_xticks([0,1,2,3])\n",
    "ax.set_xticklabels(cross_list)\n",
    "ax.set_yticks([0,1,2,3,4])\n",
    "ax.set_yticklabels(muts_list)\n",
    "\n",
    "ax.set_ylabel('mutation', fontsize = 12)\n",
    "ax.set_xlabel('crossover', fontsize = 12)\n",
    "ax.set_title('Population')\n",
    "\n",
    "plt.gcf().subplots_adjust(left=0.18)\n",
    "plt.savefig(\"./reports/pop_comparison_per_10000_h50_cross_mut.pdf\")\n",
    "# print(matrix)\n",
    "# print(matrix_pos)"
   ]
  },
  {
   "cell_type": "code",
   "execution_count": null,
   "metadata": {},
   "outputs": [],
   "source": [
    "# Important stistics\n",
    "\n",
    "print(\"Minimum HV : \", min(db_params['hv']))\n",
    "print(\"Maximum HV : \", max(db_params['hv']))\n",
    "print(\"Minimum pop : \", min(db_params['final_pop']))\n",
    "print(\"Maximum pop : \", max(db_params['final_pop']))\n",
    "      \n"
   ]
  },
  {
   "cell_type": "markdown",
   "metadata": {},
   "source": [
    "#### Specific Simulation\n"
   ]
  },
  {
   "cell_type": "code",
   "execution_count": null,
   "metadata": {},
   "outputs": [],
   "source": [
    "# Creating a database and loading from disc, \n",
    "# run this cell each time you reopen the jupyter notebook\n",
    "# TODO test todo\n",
    "\n",
    "name = 'static_perf_1000_fix_cro_1.0_mut_0.02_key_57561e0'\n",
    "name = 'static_perf_10000_fix_cro_1.0_mut_0.2_key_6118920'\n",
    "#name = 'static_perf_30000_h0.9_cro_1.0_mut_0.2_key_cdf0286'\n",
    "#name = 'static_perf_40000_h0.9_cro_1.0_mut_0.2_key_c83f510'\n",
    "#name = 'static_perf_1000_h0.3_cro_0.8_mut_0.05_key_3679063'\n",
    "\n",
    "archive = './data/'+name\n",
    "\n",
    "try:\n",
    "    db_sims_pi = pd.read_csv('{}.csv'.format(archive))#.set_index('sim')\n",
    "except:\n",
    "    print(\"Impossible to retrieve {}.cvc\".format(archive))\n",
    "    \n",
    "#Cleaning dataframe, changing index,changing columns name in case they are wrong\n",
    "#db_sims_pi.rename(columns= {'Unnamed: 0':'index','cara':'risk_aversion_coefficient'},\n",
    "#                  inplace=True)\n",
    "#db_sims_pi.set_index('sim',inplace= True)\n",
    "db_sims_pi.columns = pe.cols \n",
    "\n",
    "#printing head of dataframe,checkingif everything is ok\n",
    "db_sims_pi.head()"
   ]
  },
  {
   "cell_type": "code",
   "execution_count": null,
   "metadata": {
    "scrolled": true,
    "tags": []
   },
   "outputs": [],
   "source": [
    "%matplotlib inline \n",
    "#notebook\n",
    "db_sims =db_sims_pi\n",
    "\n",
    "print(db_sims['cutoff'].unique())\n",
    "df = db_sims[~(db_sims['cutoff']==0)]\n",
    "fig = df.plot.scatter(x = 'princ', y = 'agent',\n",
    "                      c = 'cutoff',\n",
    "                      colormap ='cool',\n",
    "                      lw = 1.4,\n",
    "                      s = 1.0, \n",
    "                      alpha = 1)\n",
    "plt.xlabel(\"Principal Utility\", fontsize=10)\n",
    "plt.ylabel(\"Agent Utility\", fontsize=10)\n",
    "\n",
    "#plt.xlim(0,4)\n",
    "#plt.ylim(0,11)\n",
    "plt.scatter(db_sims[db_sims['cutoff']==0]['princ'],\n",
    "            db_sims[db_sims['cutoff']==0]['agent'],\n",
    "            c = 'red')\n",
    "plt.gcf().subplots_adjust(bottom=0.15, top = 0.9)\n",
    "\n",
    "#plt.savefig('./reports/Pareto_Front_cutoffs_'+name+'.pdf')\n"
   ]
  },
  {
   "cell_type": "code",
   "execution_count": null,
   "metadata": {},
   "outputs": [],
   "source": [
    "%matplotlib inline \n",
    "#notebook\n",
    "db_sims =db_sims_pi\n",
    "crras = db_sims['risk_averse'].unique()\n",
    "df = db_sims[(db_sims['risk_averse']==crras[0])]\n",
    "fig = df.plot.scatter(x = 'wage', y = 'effort',\n",
    "                      c = 'cutoff',\n",
    "                      colormap ='viridis',\n",
    "                      lw = 1.4,\n",
    "                      s = 1.0, \n",
    "                      alpha = 1)\n",
    "plt.ylabel(\"Effort\", fontsize=10)\n",
    "plt.xlabel(\"Salary\", fontsize=10)\n",
    "#plt.xlim(0,4)\n",
    "#plt.ylim(0,11)\n",
    "\n",
    "#plt.savefig('./reports/Salary_effort_cutoffs_'+name+'.pdf')\n"
   ]
  },
  {
   "cell_type": "code",
   "execution_count": null,
   "metadata": {},
   "outputs": [],
   "source": [
    "# Creating a database and loading from disc, \n",
    "# run this cell each time you reopen the jupyter notebook\n",
    "\n",
    "archive = './data/hv_'+name\n",
    "\n",
    "try:\n",
    "    db_hv_pi = pd.read_csv('{}.csv'.format(archive))#.set_index('sim')\n",
    "except:\n",
    "    print(\"Impossible to retrieve {}.cvc\".format(archive))\n",
    "    \n",
    "#Cleaning dataframe, changing index,changing columns name in case they are wrong\n",
    "db_hv_pi.rename(columns= {'Unnamed: 0':'index','cara':'risk_aversion_coefficient'},\n",
    "                  inplace=True)\n",
    "#db_hv_pi.set_index('index',inplace= True)\n",
    "db_hv_pi.index = db_hv_pi['gen']\n",
    "#printing head of dataframe,checkingif everything is ok\n",
    "db_hv_pi.head()\n"
   ]
  },
  {
   "cell_type": "code",
   "execution_count": null,
   "metadata": {
    "scrolled": false
   },
   "outputs": [],
   "source": [
    "#Hypervolume Indicator\n",
    "\n",
    "#Assigning variables\n",
    "generations_hv = db_hv_pi['gen']\n",
    "hypervolume_ind = db_hv_pi['indicator']\n",
    "\n",
    "# plt.rc('font', size=BIGGER_SIZE)          # controls default text sizes\n",
    "plt.rc('axes', titlesize=BIGGER_SIZE)     # fontsize of the axes title\n",
    "plt.rc('axes', labelsize=BIGGER_SIZE)    # fontsize of the x and y labels\n",
    "plt.rc('xtick', labelsize=MEDIUM_SIZE)    # fontsize of the tick labels\n",
    "plt.rc('ytick', labelsize=MEDIUM_SIZE)    # fontsize of the tick labels\n",
    "# plt.rc('legend', fontsize=SMALL_SIZE)    # legend fontsize\n",
    "# plt.rc('figure', titlesize=MEDIUM_SIZE)  # fontsize of the figure title\n",
    "\n",
    "\n",
    "plt.figure(figsize=(5, 4))\n",
    "plt.plot(generations_hv[0:],hypervolume_ind[0:], color ='red', lw=1.2, alpha=1)#,label='risk aversion=0.5')\n",
    "plt.xlabel(\"Generations\")#,fontsize=10)\n",
    "plt.ylabel(\"Hypervolume Indicator (HV)\")#,fontsize=10)\n",
    "\n",
    "#plt.legend()\n",
    "plt.savefig('./reports/HV_'+name+'.pdf')\n",
    "\n",
    "plt.rc('axes', titlesize=MEDIUM_SIZE)     # fontsize of the axes title\n",
    "plt.rc('axes', labelsize=SMALL_SIZE)    # fontsize of the x and y labels\n",
    "plt.rc('xtick', labelsize=MEDIUM_SIZE)    # fontsize of the tick labels\n",
    "plt.rc('ytick', labelsize=MEDIUM_SIZE)    # fontsize of the tick labels\n",
    "\n"
   ]
  },
  {
   "cell_type": "code",
   "execution_count": null,
   "metadata": {
    "tags": []
   },
   "outputs": [],
   "source": [
    "# Convergence 3 x 2\n",
    "\n",
    "%matplotlib inline \n",
    "db_sims =db_sims_pi\n",
    "\n",
    "plt.figure(figsize=(7, 4))\n",
    "cutoffs = db_sims['cutoff'].unique()#gens_observations.copy()\n",
    "cutoffs_6 = [cutoffs[0],cutoffs[1],cutoffs[3],cutoffs[4],cutoffs[6],cutoffs[8]]\n",
    "\n",
    "hv_ind_obs = [hypervolume_ind[c] for c in cutoffs_6]\n",
    "crras = db_sims['risk_averse'].unique()\n",
    "crra= crras[0]\n",
    "counter = 1\n",
    "for cut in cutoffs_6:\n",
    "    plt.subplot(2,3,counter)\n",
    "    U_ga_temp = db_sims[(db_sims['risk_averse']==crra) & (db_sims['cutoff']==cut)]['princ']\n",
    "    V_ga_temp = db_sims[(db_sims['risk_averse']==crra) & (db_sims['cutoff']==cut)]['agent']\n",
    "    plt.scatter(U_ga_temp, V_ga_temp, color ='red', s=0.4, alpha=1)\n",
    "    plt.xlim(0,3.2) #h = 0.5\n",
    "    plt.ylim(0,3)   #h = 0.5 \n",
    "    #plt.xlim(0,4.1)   #h = 0.9\n",
    "    #plt.ylim(0,11.5)   #h = 0.9\n",
    "    hv =  \"%.4f\" % hv_ind_obs[counter-1]\n",
    "    label = \"gen= \"+str(cut)#+\", hv= \"+str(hv)\n",
    "    plt.xlabel(label,fontsize = 11)\n",
    "    #plt.xticks(np.arange(0, 3.5, step=1))  # Set label locations.\n",
    "    counter+=1\n",
    "    \n",
    "#changing space between plots\n",
    "plt.subplots_adjust(bottom=0.1, right=0.92, top=0.98,wspace = 0.17, hspace=0.4)\n",
    "\n",
    "plt.savefig('./reports/convergence_3x2_'+name+'.pdf')\n",
    "\n",
    "plt.show()"
   ]
  },
  {
   "cell_type": "code",
   "execution_count": null,
   "metadata": {
    "scrolled": true,
    "tags": []
   },
   "outputs": [],
   "source": [
    "# Convergence 3x3\n",
    "\n",
    "%matplotlib inline \n",
    "db_sims =db_sims_pi\n",
    "\n",
    "plt.figure(figsize=(10, 8))\n",
    "cutoffs = db_sims_pi['cutoff'].unique() #gens_observations.copy()\n",
    "\n",
    "hv_ind_obs = [hypervolume_ind[c] for c in cutoffs]\n",
    "crra=crras[0]\n",
    "counter = 1\n",
    "for cut in cutoffs:\n",
    "    plt.subplot(3,3,counter)\n",
    "    U_ga_temp = db_sims[(db_sims['risk_averse']==crra) & (db_sims['cutoff']==cut)]['princ']\n",
    "    V_ga_temp = db_sims[(db_sims['risk_averse']==crra) & (db_sims['cutoff']==cut)]['agent']\n",
    "    plt.scatter(U_ga_temp, V_ga_temp, color ='red', s=1.0, alpha=1)\n",
    "    plt.xlim(0,3.2) # h =0.5\n",
    "    plt.ylim(0,3)\n",
    "    #plt.xlim(0,4.1)   #h = 0.9\n",
    "    #plt.ylim(0,11.5)   #h = 0.9\n",
    "    hv =  \"%.4f\" % hv_ind_obs[counter-1]\n",
    "    label = \"gen= \"+str(cut)+\", hv= \"+str(hv)\n",
    "    plt.xlabel(label,fontsize = 11)\n",
    "    counter+=1\n",
    "    \n",
    "#changing space between plots\n",
    "plt.subplots_adjust(bottom=0.07, right=0.92, top=0.98,wspace = 0.17, hspace=0.4)\n",
    "plt.savefig('./reports/convergence_3x3_'+name+'.pdf')\n",
    "\n",
    "\n",
    "plt.show()"
   ]
  },
  {
   "cell_type": "markdown",
   "metadata": {},
   "source": [
    "## Imperfect Information"
   ]
  },
  {
   "cell_type": "markdown",
   "metadata": {},
   "source": [
    "### Parameters, Variables and Methods"
   ]
  },
  {
   "cell_type": "code",
   "execution_count": null,
   "metadata": {},
   "outputs": [],
   "source": [
    "import src.imperfectga as im"
   ]
  },
  {
   "cell_type": "markdown",
   "metadata": {},
   "source": [
    "### Simulation"
   ]
  },
  {
   "cell_type": "markdown",
   "metadata": {},
   "source": [
    "#### By risk aversion"
   ]
  },
  {
   "cell_type": "code",
   "execution_count": null,
   "metadata": {
    "scrolled": true,
    "tags": []
   },
   "outputs": [],
   "source": [
    "#list of cara values to simulate with current parameters\n",
    "risk_averse_list = [0.8]\n",
    "#risk_averse_list = [ 0.10, 0.30, 0.50, 0.70, 0.90]\n",
    "\n",
    "\n",
    "# params\n",
    "im.max_gen = 1000\n",
    "im.init_pop_random = True\n",
    "im.init_pop_size = 15\n",
    "\n",
    "# code for extracting an old simulation to use as seed\n",
    "name_seed = 'static_imp_1000_fix_cro_0.6_mut_0.05_key_95bca20'\n",
    "data = pd.read_csv('./data/{}.csv'.format(name_seed))\n",
    "data = data[['wl', 'wh']]\n",
    "seeds = data.to_numpy().tolist()# code for extracting an old \n",
    "\n",
    "# arguments from simulate\n",
    "args = []\n",
    "\n",
    "### simulating for each element of risk_averse_list\n",
    "for cara in risk_averse_list:\n",
    "    # setting variables for current simulation\n",
    "    im.h = cara\n",
    "    # reset seeding\n",
    "    im.reset_seeding(fix_imp)\n",
    "    # reinit database and variables\n",
    "    im.reinit_variables_imp(cara)\n",
    "\n",
    "    db_sims, args, df_hyp= im.simulate_imp()\n",
    "\n",
    "    "
   ]
  },
  {
   "cell_type": "code",
   "execution_count": null,
   "metadata": {},
   "outputs": [],
   "source": [
    "db_sims.head()"
   ]
  },
  {
   "cell_type": "markdown",
   "metadata": {},
   "source": [
    "#### By crossover and Mutation"
   ]
  },
  {
   "cell_type": "code",
   "execution_count": null,
   "metadata": {},
   "outputs": [],
   "source": [
    "# Simulations per crossover and mutation\n",
    "\n",
    "# list of crossover indexes\n",
    "cross_list = [0.4,0.6,0.8,1.0]\n",
    "cross_list = [0.4,0.6]\n",
    "\n",
    "# list of mutation indexes\n",
    "muts_list = [0.01,0.05,0.1,0.15,0.2]\n",
    "muts_list = [0.01,0.05]\n",
    "# setting parameters\n",
    "im.max_gen =1000\n",
    "im.init_pop_random = False\n",
    "# assign risk averse coefficient\n",
    "im.h = 0.5\n",
    "\n",
    "# arguments from simulate\n",
    "args = []\n",
    "         \n",
    "# data frame of crossover and mutations\n",
    "name_cr_mu_df = 'static_imp_cross_mut_rd_pop_'+str(im.max_gen)+'_h'+str(im.h)+'_9jul'\n",
    "cols_cr_mut = ['sim','cross', 'mut', 'final_pop','hv']\n",
    "db_cr_mut = pd.DataFrame([], columns = cols_cr_mut ).set_index('sim') \n",
    "         "
   ]
  },
  {
   "cell_type": "code",
   "execution_count": null,
   "metadata": {
    "scrolled": false,
    "tags": []
   },
   "outputs": [],
   "source": [
    "# loop over crossover and mutation indexes\n",
    "for cr in cross_list:\n",
    "    for mu in muts_list:\n",
    "        # assigning values to global variables of crossover and mutation\n",
    "        im.crossover = cr\n",
    "        im.mutation = mu\n",
    "        \n",
    "        print(\"***************new simulation******************\")\n",
    "        print(\"*****\",\"crossover: \", im.crossover,\"mutation: \",im.mutation,\"*****\")\n",
    "        print(\"***************new simulation******************\")\n",
    "        \n",
    "        # setting variables for current simulation\n",
    "        # reset seeding\n",
    "        im.reset_seeding(fix_imp)\n",
    "        # reinit database and variables\n",
    "        im.reinit_variables_imp()\n",
    "        \n",
    "        # simulate\n",
    "        db_sims, args, df_hyp= im.simulate_imp()\n",
    "         \n",
    "        #adding result of simulation to cross and mut data frame\n",
    "        hv_ = df_hyp['indicator'].loc[max(df_hyp.index)]\n",
    "        final_pop_ = len(db_sims[db_sims['gen']== im.max_gen])\n",
    "        new_row = {'sim':db_sims.index[0], 'cross':cr, 'mut':mu, 'final_pop':final_pop_,'hv': hv_}\n",
    "        #append row to the dataframe\n",
    "        db_cr_mut = db_cr_mut.append(new_row, ignore_index=True)\n",
    "         \n",
    "         # saving database of crossover and mutation\n",
    "        db_cr_mut.to_csv('./data/{}.csv'.format(name_cr_mu_df))\n",
    "         \n",
    "         "
   ]
  },
  {
   "cell_type": "code",
   "execution_count": null,
   "metadata": {},
   "outputs": [],
   "source": [
    "db_cr_mut"
   ]
  },
  {
   "cell_type": "markdown",
   "metadata": {},
   "source": [
    "#### By initial Points"
   ]
  },
  {
   "cell_type": "code",
   "execution_count": null,
   "metadata": {},
   "outputs": [],
   "source": [
    "# Simulations by initial points, same crossover and mutation, same risk averse coefficient\n",
    "\n",
    "# number of simulations\n",
    "tot_sim = 2\n",
    "\n",
    "# setting parameters\n",
    "im.crossover = 1\n",
    "im.mutation = 0.2\n",
    "im.max_gen =1000\n",
    "# im.max_gen =10000\n",
    "im.init_pop_size = 50\n",
    "im.init_pop_random = True\n",
    "\n",
    "# assign risk averse coefficient\n",
    "im.h = 0.5\n",
    "# arguments from simulate\n",
    "args = []\n",
    "         \n",
    "# data frame of crossover and mutations\n",
    "name_cr_mu_df ='static_imp_cross_'+str(im.crossover)+'_mut_'+str(im.mutation)+'_pop_'+str(im.max_gen)+'_h'+str(im.h)+'_9jul'\n",
    "cols_cr_mut = ['sim','cross', 'mut', 'final_pop','hv']\n",
    "db_cr_mut = pd.DataFrame([], columns = cols_cr_mut ).set_index('sim') "
   ]
  },
  {
   "cell_type": "code",
   "execution_count": null,
   "metadata": {
    "tags": []
   },
   "outputs": [],
   "source": [
    "\n",
    "\n",
    "# loop over number of simulations\n",
    "for x in range(tot_sim):        \n",
    "    print(\"***************new simulation******************\")\n",
    "\n",
    "    # setting variables for current simulation\n",
    "    # reset seeding\n",
    "    im.reset_seeding(fix_imp)\n",
    "    # reinit database and variables\n",
    "    im.reinit_variables_imp(im.h)\n",
    "\n",
    "    # simulate\n",
    "    db_sims, args, df_hyp= im.simulate_imp()\n",
    "\n",
    "    #adding result of simulation to cross and mut data frame\n",
    "    hv_ = df_hyp['indicator'].loc[max(df_hyp.index)]\n",
    "    final_pop_ = len(db_sims[db_sims['gen']==im.max_gen])\n",
    "    new_row = {'sim':db_sims.index[0], 'cross':im.crossover, 'mut':im.mutation,\n",
    "               'final_pop':final_pop_,'hv': hv_}\n",
    "    #append row to the dataframe\n",
    "    db_cr_mut = db_cr_mut.append(new_row, ignore_index=True)\n",
    "\n",
    "     # saving database of crossover and mutation\n",
    "    db_cr_mut.to_csv('./data/{}.csv'.format(name_cr_mu_df))\n",
    "         "
   ]
  },
  {
   "cell_type": "code",
   "execution_count": null,
   "metadata": {},
   "outputs": [],
   "source": [
    "db_cr_mut"
   ]
  },
  {
   "cell_type": "markdown",
   "metadata": {},
   "source": [
    "### Ploting"
   ]
  },
  {
   "cell_type": "markdown",
   "metadata": {},
   "source": [
    "#### Parameters"
   ]
  },
  {
   "cell_type": "code",
   "execution_count": null,
   "metadata": {},
   "outputs": [],
   "source": [
    "# Creating a database and loading from disc, \n",
    "# run this cell each time you reopen the jupyter notebook\n",
    "\n",
    "\n",
    "name_params = 'static_imp_cross_mut_'+str(10000)+'_h50_27_jun'\n",
    "try:\n",
    "    db_params = pd.read_csv('./data/{}.csv'.format(name_params)).set_index('sim')\n",
    "except:\n",
    "    print(\"Impossible to retrieve {}.cvc\".format(name_params))\n",
    "\n",
    "    \n",
    "#Cleaning dataframe, changing index,changing columns name in case they are wrong\n",
    "#db_sims_pi.rename(columns= {'Unnamed: 0':'sim','cara':'risk_aversion_coefficient'},inplace=True)\n",
    "#db_sims.set_index('sim',inplace= True)\n",
    "db_params.drop(columns=['Unnamed: 0'],inplace=True)\n",
    "#printing head of dataframe,checkingif everything is ok\n",
    "db_params.head()"
   ]
  },
  {
   "cell_type": "code",
   "execution_count": null,
   "metadata": {
    "tags": []
   },
   "outputs": [],
   "source": [
    "# Significant points\n",
    "\n",
    "print(\"Minimum HV : \", min(db_params['hv']))\n",
    "print(\"Maximum HV : \", max(db_params['hv']))\n",
    "print(\"Minimum pop : \", min(db_params['final_pop']))\n",
    "print(\"Maximum pop : \", max(db_params['final_pop']))\n",
    "\n",
    "\n",
    "print(db_params[db_params['hv'] == max(db_params['hv'])])\n",
    "      "
   ]
  },
  {
   "cell_type": "code",
   "execution_count": null,
   "metadata": {},
   "outputs": [],
   "source": [
    "# Ploting hv color map \n",
    "\n",
    "% matplotlib inline\n",
    "\n",
    "weight = 4\n",
    "height = 5\n",
    "density = 100\n",
    "\n",
    "plt.figure(figsize=(weight, height), dpi=density)\n",
    "\n",
    "\n",
    "matrix_pos =[[(str(cr)+\" \"+str(mu)) for cr in db_params['cross'].unique()] for mu in db_params['mut'].unique()]\n",
    "maxim_hv = max(db_params['hv'])\n",
    "matrix =[[maxim_hv-np.average(db_params[(cr==db_params['cross']) & (mu == db_params['mut'])]['hv'])\n",
    "          for cr in db_params['cross'].unique()] for mu in db_params['mut'].unique()]\n",
    "\n",
    "\n",
    "color_map = plt.imshow(matrix)\n",
    "color_map.set_cmap(\"Blues_r\")\n",
    "ax = plt.gca()\n",
    "ax.set_xticks([0,1,2,3])\n",
    "ax.set_xticklabels(cross_list)\n",
    "ax.set_yticks([0,1,2,3,4])\n",
    "ax.set_yticklabels(muts_list)\n",
    "\n",
    "ax.set_ylabel('mutation', fontsize = 12)\n",
    "ax.set_xlabel('crossover', fontsize = 12)\n",
    "ax.set_title('Hypervolume Index')\n",
    "\n",
    "plt.gcf().subplots_adjust(left=0.18)\n",
    "\n",
    "plt.savefig(\"./reports/hv_\"+name_params+\".pdf\")\n"
   ]
  },
  {
   "cell_type": "code",
   "execution_count": null,
   "metadata": {},
   "outputs": [],
   "source": [
    "# Ploting population color map \n",
    "\n",
    "plt.figure(figsize=(weight, height), dpi=density)\n",
    "\n",
    "maxim_pop = max(db_params['final_pop'])\n",
    "matrix =[[maxim_hv-np.average(db_params[(cr==db_params['cross']) & (mu == db_params['mut'])]['final_pop'])\n",
    "          for cr in db_params['cross'].unique()] for mu in db_params['mut'].unique()]\n",
    "\n",
    "\n",
    "color_map = plt.imshow(matrix)\n",
    "color_map.set_cmap(\"Blues_r\")\n",
    "ax = plt.gca()\n",
    "ax.set_xticks([0,1,2,3])\n",
    "ax.set_xticklabels(cross_list)\n",
    "ax.set_yticks([0,1,2,3,4])\n",
    "ax.set_yticklabels(muts_list)\n",
    "\n",
    "ax.set_ylabel('mutation', fontsize = 12)\n",
    "ax.set_xlabel('crossover', fontsize = 12)\n",
    "ax.set_title('Population')\n",
    "\n",
    "plt.gcf().subplots_adjust(left=0.18)\n",
    "plt.savefig(\"./reports/pop_comparison_imp_10000_h50_cross_mut.pdf\")\n",
    "# print(matrix)\n",
    "# print(matrix_pos)"
   ]
  },
  {
   "cell_type": "markdown",
   "metadata": {},
   "source": [
    "#### Specific simulation"
   ]
  },
  {
   "cell_type": "code",
   "execution_count": null,
   "metadata": {
    "scrolled": true
   },
   "outputs": [],
   "source": [
    "# Creating a database and loading from disc, \n",
    "# run this cell each time you reopen the jupyter notebook\n",
    "\n",
    "\n",
    "name = 'static_imp_1000_fix_cro_1_mut_0.2_key_82f94a1'\n",
    "\n",
    "name = 'static_imp_1000_fix_cro_0.6_mut_0.05_key_95bca20'\n",
    "name = 'static_imp_10000_fix_cro_0.6_mut_0.05_key_f5e6752'\n",
    "name = 'static_imp_10000_fix_cro_0.8_mut_0.1_key_f97ca99'\n",
    "name = 'static_imp_10000_fix_cro_1.0_mut_0.02_key_f93dcf5' #No es buena\n",
    "name = 'static_imp_10000_fix_cro_1.0_mut_0.2_key_6c27125'\n",
    "# name = 'static_imp_1000_fix_cro_1.0_mut_0.02_key_b8305dd'\n",
    "archive = './data/'+name\n",
    "try:\n",
    "    db_sims_ii = pd.read_csv('{}.csv'.format(archive)).set_index('sim')\n",
    "except:\n",
    "    print(\"Impossible to retrieve {}.cvc\".format(archive))\n",
    "    \n",
    "#Cleaning dataframe, changing index,changing columns name in case they are wrong\n",
    "#db_sims_ii.rename(columns= {'Unnamed: 0':'sim','cara':'risk_aversion_coefficient'},inplace=True)\n",
    "#db_sims.set_index('sim',inplace= True)\n",
    "#printing head of dataframe,checkingif everything is ok\n",
    "db_sims_ii.head()"
   ]
  },
  {
   "cell_type": "code",
   "execution_count": null,
   "metadata": {
    "scrolled": false
   },
   "outputs": [],
   "source": [
    "db_sims= db_sims_ii\n",
    "\n",
    "crras = db_sims['risk_averse'].unique()\n",
    "df = db_sims[(db_sims['risk_averse']==0.5) & ~(db_sims['cutoff']==0)]\n",
    "fig = df.plot.scatter(x = 'princ', y = 'agent',\n",
    "                      c = 'cutoff',\n",
    "                      colormap ='cool',\n",
    "                      lw = 1.4,\n",
    "                      s = 1.0, \n",
    "                      alpha = 1)\n",
    "plt.ylabel(\"Agent Utility\", fontsize=10)\n",
    "plt.xlabel(\"Principal Utility\", fontsize=10);\n",
    "#plt.xlim(0,4)\n",
    "#plt.ylim(0,11)\n",
    "plt.scatter(db_sims[db_sims['cutoff']==0]['princ'],\n",
    "            db_sims[db_sims['cutoff']==0]['agent'],\n",
    "            c = 'red')\n",
    "plt.gcf().subplots_adjust(bottom=0.15, top = 0.9)\n",
    "\n",
    "#plt.savefig('./reports/Pareto_Front_cutoffs_imp_'+name+'.pdf')\n"
   ]
  },
  {
   "cell_type": "code",
   "execution_count": null,
   "metadata": {},
   "outputs": [],
   "source": [
    "%matplotlib inline\n",
    "#notebook\n",
    "db_sims =db_sims_ii\n",
    "#print(db_sims['cutoff'].unique())\n",
    "df = db_sims[(db_sims['risk_averse']==0.5) & ~(db_sims['cutoff']==0)]\n",
    "fig = df.plot.scatter(x = 'wl', y = 'wh',\n",
    "                      c = 'cutoff',\n",
    "                      colormap ='viridis',\n",
    "                      lw = 1.4,\n",
    "                      s = 1.0, \n",
    "                      alpha = 1)\n",
    "plt.scatter(db_sims[db_sims['cutoff']==0]['wl'],\n",
    "            db_sims[db_sims['cutoff']==0]['wh'],\n",
    "            c = 'red')\n",
    "plt.ylabel(\"High Wage\", fontsize=10)\n",
    "plt.xlabel(\"Low Wage\", fontsize=10);\n",
    "#plt.xlim(0,4)\n",
    "#plt.ylim(0,11)\n",
    "\n",
    "\n",
    "#plt.savefig('./reports/Salary_AgentUt_imp_cutoffs_'+name+'.pdf')\n"
   ]
  },
  {
   "cell_type": "code",
   "execution_count": null,
   "metadata": {},
   "outputs": [],
   "source": [
    "# Creating a database and loading from disc, \n",
    "# run this cell each time you reopen the jupyter notebook\n",
    "\n",
    "archive = './data/hv_'+name\n",
    "\n",
    "#'./data_static/hv_static_perf_10000_fix_cro_0.8_mut_0.1_key_a79cf27'\n",
    "try:\n",
    "    db_hv_ii = pd.read_csv('{}.csv'.format(archive))#.set_index('sim')\n",
    "except:\n",
    "    print(\"Impossible to retrieve {}.cvc\".format(archive))\n",
    "    print(\"Creating new database named {}.cvc\".format(archive))\n",
    "    \n",
    "#Cleaning dataframe, changing index,changing columns name in case they are wrong\n",
    "db_hv_ii.rename(columns= {'Unnamed: 0':'index','cara':'risk_aversion_coefficient'},\n",
    "                  inplace=True)\n",
    "db_hv_ii.set_index('index',inplace= True)\n",
    "db_hv_ii.index = db_hv_ii['gen']\n",
    "#printing head of dataframe,checkingif everything is ok\n",
    "db_hv_ii.head()"
   ]
  },
  {
   "cell_type": "code",
   "execution_count": null,
   "metadata": {
    "scrolled": true
   },
   "outputs": [],
   "source": [
    "#Hypervolume Indicator\n",
    "\n",
    "#Assigning variables\n",
    "generations_hv = db_hv_ii['gen']\n",
    "hypervolume_ind = db_hv_ii['indicator']\n",
    "\n",
    "# plt.rc('font', size=BIGGER_SIZE)          # controls default text sizes\n",
    "plt.rc('axes', titlesize=BIGGER_SIZE)     # fontsize of the axes title\n",
    "plt.rc('axes', labelsize=BIGGER_SIZE)    # fontsize of the x and y labels\n",
    "plt.rc('xtick', labelsize=MEDIUM_SIZE)    # fontsize of the tick labels\n",
    "plt.rc('ytick', labelsize=MEDIUM_SIZE)    # fontsize of the tick labels\n",
    "# plt.rc('legend', fontsize=SMALL_SIZE)    # legend fontsize\n",
    "# plt.rc('figure', titlesize=MEDIUM_SIZE)  # fontsize of the figure title\n",
    "\n",
    "\n",
    "plt.figure(figsize=(5, 4))\n",
    "plt.plot(generations_hv[0:],hypervolume_ind[0:], color ='blue', lw=1.2, alpha=1)#,label='risk aversion=0.5')\n",
    "plt.xlabel(\"Generations\")#,fontsize=10)\n",
    "plt.ylabel(\"Hypervolume Indicator (HV)\")#,fontsize=10)\n",
    "#plt.legend()\n",
    "#plt.savefig('Per_Inf_HV_h50'+name+'.pdf')\n",
    "#Hypervolume Indicator\n",
    "#plt.plot(generations_hv[1:],hypervolume_ind_n[1:], color = 'blue', lw=1.0, alpha=1)#,label='risk aversion=0.5')\n",
    "\n",
    "#plt.legend()\n",
    "plt.savefig('./reports/HV_'+name+'.pdf')\n",
    "\n",
    "plt.rc('axes', titlesize=MEDIUM_SIZE)     # fontsize of the axes title\n",
    "plt.rc('axes', labelsize=SMALL_SIZE)    # fontsize of the x and y labels\n",
    "plt.rc('xtick', labelsize=MEDIUM_SIZE)    # fontsize of the tick labels\n",
    "plt.rc('ytick', labelsize=MEDIUM_SIZE)    # fontsize of the tick labels\n",
    "\n",
    "\n"
   ]
  },
  {
   "cell_type": "code",
   "execution_count": null,
   "metadata": {},
   "outputs": [],
   "source": [
    "# Convergence 3 x 2\n",
    "\n",
    "%matplotlib inline \n",
    "db_sims = db_sims_ii\n",
    "\n",
    "plt.figure(figsize=(7, 4))\n",
    "\n",
    "cutoffs = db_sims_ii['cutoff'].unique()#gens_observations.copy()\n",
    "cutoffs_6 = [cutoffs[0],cutoffs[1],cutoffs[3],cutoffs[4],cutoffs[6],cutoffs[8]]\n",
    "\n",
    "#cutoffs.pop(10)\n",
    "# print(name)\n",
    "print(cutoffs_6)\n",
    "# print(hypervolume_ind)\n",
    "hv_ind_obs = [hypervolume_ind[c] for c in cutoffs_6]\n",
    "crra=0.5\n",
    "counter = 1\n",
    "for cut in cutoffs_6:\n",
    "    plt.subplot(2,3,counter)\n",
    "    U_ga_temp = db_sims[(db_sims['risk_averse']==crra) & (db_sims['cutoff']==cut)]['princ']\n",
    "    V_ga_temp = db_sims[(db_sims['risk_averse']==crra) & (db_sims['cutoff']==cut)]['agent']\n",
    "    plt.scatter(U_ga_temp, V_ga_temp, color ='blue', s=0.4, alpha=1)\n",
    "    plt.xlim(0,3.2)\n",
    "    plt.ylim(0,3)\n",
    "    hv =  \"%.4f\" % hv_ind_obs[counter-1]\n",
    "    label = \"gen= \"+str(cut)#+\", hv= \"+str(hv)\n",
    "    plt.xlabel(label,fontsize = 11)\n",
    "\n",
    "    plt.xticks(np.arange(0, 3.5, step=1))  # Set label locations.\n",
    "\n",
    "    counter+=1\n",
    "    \n",
    "#changing space between plots\n",
    "plt.subplots_adjust(bottom=0.17, right=0.92, top=0.98,wspace = 0.17, hspace=0.4)\n",
    "plt.savefig('./reports/convergence_3x2_'+'static_imp'+'.pdf')\n",
    "#plt.savefig('MultiObj_Model_Perfect_InformationReserve.eps')\n",
    "\n",
    "plt.show()"
   ]
  },
  {
   "cell_type": "code",
   "execution_count": null,
   "metadata": {},
   "outputs": [],
   "source": [
    "plt.figure(figsize=(10, 8))\n",
    "db_sims = db_sims_ii\n",
    "cutoffs = db_sims_ii['cutoff'].unique()#gens_observations.copy()\n",
    "#cutoffs.pop(10)\n",
    "# print(name)\n",
    "# print(cutoffs)\n",
    "# print(hypervolume_ind)\n",
    "hv_ind_obs = [hypervolume_ind[c] for c in cutoffs]\n",
    "crra=0.5\n",
    "counter = 1\n",
    "for cut in cutoffs:\n",
    "    plt.subplot(3,3,counter)\n",
    "    U_ga_temp = db_sims[(db_sims['risk_averse']==crra) & (db_sims['cutoff']==cut)]['princ']\n",
    "    V_ga_temp = db_sims[(db_sims['risk_averse']==crra) & (db_sims['cutoff']==cut)]['agent']\n",
    "    plt.scatter(U_ga_temp, V_ga_temp, color ='blue', s=1.0, alpha=1)\n",
    "    plt.xlim(0,3.2)\n",
    "    plt.ylim(0,3)\n",
    "    hv =  \"%.4f\" % hv_ind_obs[counter-1]\n",
    "    label = \"gen= \"+str(cut)+\", hv= \"+str(hv)\n",
    "    plt.xlabel(label,fontsize = 11)\n",
    "    counter+=1\n",
    "    \n",
    "#changing space between plots\n",
    "plt.subplots_adjust(bottom=0.07, right=0.92, top=0.98,wspace = 0.17, hspace=0.4)\n",
    "\n",
    "plt.savefig('./reports/convergence_3x3_'+name+'.pdf')\n",
    "\n",
    "plt.show()"
   ]
  },
  {
   "cell_type": "markdown",
   "metadata": {},
   "source": [
    "## Ploting Both Models"
   ]
  },
  {
   "cell_type": "code",
   "execution_count": null,
   "metadata": {
    "tags": []
   },
   "outputs": [],
   "source": [
    "# Creating a database and loading from disc\n",
    "\n",
    "name_pi = 'static_perf_10000_fix_cro_1_mut_0.2_key_824fb02'\n",
    "name_ii = 'static_imp_10000_fix_cro_1.0_mut_0.2_key_6c27125'\n",
    "\n",
    "\n",
    "archive_pi = './data/'+name_pi\n",
    "archive_ii = './data/'+name_ii\n",
    "\n",
    "archive_pi = name_pi\n",
    "archive_ii = name_ii\n",
    "\n",
    "try:\n",
    "    db_sims_pi = pd.read_csv('{}.csv'.format(archive_pi))#.set_index('sim')\n",
    "except:\n",
    "    print(\"Impossible to retrieve {}.cvc\".format(archive_pi))\n",
    "    \n",
    "try:\n",
    "    db_sims_ii = pd.read_csv('{}.csv'.format(archive_ii))#.set_index('sim')\n",
    "except:\n",
    "    print(\"Impossible to retrieve {}.cvc\".format(archive_ii))\n",
    "    \n",
    "#Cleaning dataframe, changing index,changing columns name in case they are wrong\n",
    "#db_sims_pi.rename(columns= {'Unnamed: 0':'index','cara':'risk_aversion_coefficient'},\n",
    "#                  inplace=True)\n",
    "#db_sims_pi.set_index('index',inplace= True)\n",
    "#printing head of dataframe,checkingif everything is ok\n",
    "db_sims_pi.columns = pe.cols \n",
    "db_sims_ii.columns = im.cols \n",
    "\n",
    "db_sims_pi.head()"
   ]
  },
  {
   "cell_type": "code",
   "execution_count": null,
   "metadata": {},
   "outputs": [],
   "source": [
    "#Frontiers Perfect Information vs Frontier Imperfect Information (Genetic Algorithm)\n",
    "U_ga_pi = db_sims_pi[(db_sims_pi['risk_averse']==0.5) & (db_sims_pi['cutoff']==10000)]['princ']\n",
    "V_ga_pi = db_sims_pi[(db_sims_pi['risk_averse']==0.5) & (db_sims_pi['cutoff']==10000)]['agent']\n",
    "U_ga_ii = db_sims_ii[(db_sims_ii['risk_averse']==0.5) & (db_sims_ii['cutoff']==10000)]['princ']\n",
    "V_ga_ii = db_sims_ii[(db_sims_ii['risk_averse']==0.5) & (db_sims_ii['cutoff']==10000)]['agent']"
   ]
  },
  {
   "cell_type": "code",
   "execution_count": null,
   "metadata": {},
   "outputs": [],
   "source": [
    "# colors\n",
    "dark_red ='#67000d'\n",
    "dark_blue ='#08306b'\n",
    "blue_cara5 = '#66abd4'\n",
    "red_cara5 = '#fa6849'\n",
    "\n",
    "\n",
    "# creating figure\n",
    "plt.figure()#figsize=(8, 4))\n",
    "plt.scatter(U_ga_pi, V_ga_pi, color ='red', s=0.6,label='FB Frontier')\n",
    "plt.scatter(U_ga_ii, V_ga_ii, color ='blue', s=0.6,label='SB Frontier')\n",
    "plt.xlabel(\"Principal Utility\",fontsize=10)\n",
    "plt.ylabel(\"Agent Utility\",fontsize=10)\n",
    "plt.xlim(0, 3.1)\n",
    "plt.ylim(0, 2.9)\n",
    "plt.legend()\n",
    "plt.savefig('./reports/Imp_Inf_vs_Per_GA_h50_frontier_all.pdf')\n"
   ]
  }
 ],
 "metadata": {
  "@webio": {
   "lastCommId": null,
   "lastKernelId": null
  },
  "hide_input": false,
  "kernelspec": {
   "display_name": "Python 3",
   "language": "python",
   "name": "python3"
  },
  "language_info": {
   "codemirror_mode": {
    "name": "ipython",
    "version": 3
   },
   "file_extension": ".py",
   "mimetype": "text/x-python",
   "name": "python",
   "nbconvert_exporter": "python",
   "pygments_lexer": "ipython3",
   "version": "3.7.3-final"
  },
  "toc": {
   "base_numbering": 1,
   "nav_menu": {},
   "number_sections": true,
   "sideBar": true,
   "skip_h1_title": false,
   "title_cell": "Table of Contents",
   "title_sidebar": "Contents",
   "toc_cell": true,
   "toc_position": {
    "height": "749.889px",
    "left": "529px",
    "top": "242.778px",
    "width": "283.403px"
   },
   "toc_section_display": true,
   "toc_window_display": true
  },
  "varInspector": {
   "cols": {
    "lenName": 16,
    "lenType": 16,
    "lenVar": 40
   },
   "kernels_config": {
    "python": {
     "delete_cmd_postfix": "",
     "delete_cmd_prefix": "del ",
     "library": "var_list.py",
     "varRefreshCmd": "print(var_dic_list())"
    },
    "r": {
     "delete_cmd_postfix": ") ",
     "delete_cmd_prefix": "rm(",
     "library": "var_list.r",
     "varRefreshCmd": "cat(var_dic_list()) "
    }
   },
   "position": {
    "height": "572.611px",
    "left": "1475.24px",
    "right": "20px",
    "top": "110px",
    "width": "173.139px"
   },
   "types_to_exclude": [
    "module",
    "function",
    "builtin_function_or_method",
    "instance",
    "_Feature"
   ],
   "window_display": true
  }
 },
 "nbformat": 4,
 "nbformat_minor": 4
}