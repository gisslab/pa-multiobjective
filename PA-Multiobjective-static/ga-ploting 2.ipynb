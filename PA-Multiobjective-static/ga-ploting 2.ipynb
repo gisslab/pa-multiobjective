{
 "cells": [
  {
   "cell_type": "markdown",
   "metadata": {},
   "source": [
    "# Importing"
   ]
  },
  {
   "cell_type": "code",
   "execution_count": 2,
   "metadata": {},
   "outputs": [],
   "source": [
    "from random import Random\n",
    "from time import time\n",
    "import inspyred\n",
    "import math\n",
    "from datetime import datetime\n",
    "import pandas as pd\n",
    "import numpy as np\n",
    "#style graphs\n",
    "import os\n",
    "from matplotlib.ticker import ScalarFormatter,AutoMinorLocator\n",
    "import matplotlib as mpl\n",
    "import matplotlib.pyplot as plt\n",
    "\n",
    "# following line is to enable the jupyter black theme:\n",
    "#from jupyterthemes import jtplot\n",
    "#jtplot.style( context='notebook',grid=False, ticks =True, fscale =1)\n",
    "#nice graphsin jupyter:\n",
    "#%matplotlib notebook  \n",
    "\n",
    "# importing perfect information methods and variables\n",
    "import src.perfectga as pe\n",
    "\n",
    "import src.imperfectga as im\n"
   ]
  },
  {
   "cell_type": "markdown",
   "metadata": {},
   "source": [
    "# Symmetric information"
   ]
  },
  {
   "cell_type": "code",
   "execution_count": 3,
   "metadata": {},
   "outputs": [
    {
     "data": {
      "text/plain": [
       "7004"
      ]
     },
     "execution_count": 3,
     "metadata": {},
     "output_type": "execute_result"
    }
   ],
   "source": [
    "# Symmetric Information (Figure 9)\n",
    "\n",
    "name_1 = 'static_perf_10000_h0.1_cro_1.0_mut_0.2_key_2c843c1'\n",
    "name_3 = 'static_perf_10000_h0.3_cro_1.0_mut_0.2_key_002d2cb'\n",
    "name_5 = 'static_perf_10000_fix_cro_1_mut_0.2_key_d6268f5'\n",
    "name_7 = 'static_perf_10000_h0.7_cro_1.0_mut_0.2_key_7068459'\n",
    "name_9 = 'static_perf_20000_h0.9_cro_1.0_mut_0.2_key_354e2ab'\n",
    "name_9 = 'static_perf_40000_h0.9_cro_1.0_mut_0.2_key_c83f510'\n",
    "\n",
    "db_sims_1 = pd.read_csv('./data/{}.csv'.format(name_1)).set_index('sim')\n",
    "db_sims_3 = pd.read_csv('./data/{}.csv'.format(name_3)).set_index('sim')\n",
    "db_sims_5 = pd.read_csv('./data/{}.csv'.format(name_5)).set_index('sim')\n",
    "db_sims_7 = pd.read_csv('./data/{}.csv'.format(name_7)).set_index('sim')\n",
    "db_sims_9 = pd.read_csv('./data/{}.csv'.format(name_9)).set_index('sim')\n",
    "\n",
    "db_sims_1 = db_sims_1[db_sims_1['cutoff']==10000]\n",
    "db_sims_3 = db_sims_3[db_sims_3['cutoff']==10000]\n",
    "db_sims_5 = db_sims_5[db_sims_5['cutoff']==10000]\n",
    "db_sims_7 = db_sims_7[db_sims_7['cutoff']==10000]\n",
    "db_sims_9 = db_sims_9[db_sims_9['cutoff']==40000]\n",
    "\n",
    "len(db_sims_9)"
   ]
  },
  {
   "cell_type": "code",
   "execution_count": 4,
   "metadata": {},
   "outputs": [
    {
     "data": {
      "image/png": "[encoded data removed]",
      "text/plain": [
       "<Figure size 576x216 with 3 Axes>"
      ]
     },
     "metadata": {
      "needs_background": "light"
     },
     "output_type": "display_data"
    },
    {
     "data": {
      "text/plain": [
       "<Figure size 432x288 with 0 Axes>"
      ]
     },
     "metadata": {},
     "output_type": "display_data"
    }
   ],
   "source": [
    "fig= plt.figure(figsize=(8, 3), constrained_layout=False)#\n",
    "gs = fig.add_gridspec(1, 8, hspace = 6, wspace=3)\n",
    "# Getting specific colors in colorbar\n",
    "cmap_blue = mpl.cm.Blues #using Blues\n",
    "\n",
    "#colors\n",
    "blue1 = '#dfebf7'\n",
    "blue3 = '#b1d2e8'\n",
    "blue5 = '#65aad4'\n",
    "blue7 = '#2a7ab9'\n",
    "blue9 = '#084488'\n",
    "\n",
    "ax1 = fig.add_subplot(gs[:, 0:3])\n",
    "#ax1 = fig.add_subplot()\n",
    "ax1.scatter(db_sims_1['vw'], db_sims_1['va'], lw=1.4, s=0.8, c= blue1)\n",
    "ax1.scatter(db_sims_3['vw'], db_sims_3['va'], lw=1.4, s=0.8, c=blue3)\n",
    "ax1.scatter(db_sims_5['vw'], db_sims_5['va'], lw=1.4, s=0.8, c=blue5)\n",
    "ax1.scatter(db_sims_7['vw'], db_sims_7['va'], lw=1.4, s=0.8, c= blue7)\n",
    "ax1.scatter(db_sims_9['vw'], db_sims_9['va'], lw=1.4, s=0.8, c=blue9)\n",
    "plt.ylabel(\"Effort\",fontsize=10)\n",
    "plt.xlabel(\"Salary\",fontsize=10)\n",
    "\n",
    "ax2 = fig.add_subplot(gs[:, 3:6])\n",
    "ax2.scatter(db_sims_1['vU'],db_sims_1['vV'], lw=1.4, s=0.8, c=blue1)\n",
    "ax2.scatter(db_sims_3['vU'], db_sims_3['vV'], lw=1.4, s=0.8, c= blue3)\n",
    "ax2.scatter(db_sims_5['vU'], db_sims_5['vV'], lw=1.4, s=0.8, c=blue5)\n",
    "ax2.scatter(db_sims_7['vU'], db_sims_7['vV'], lw=1.4, s=0.8, c=blue7)\n",
    "ax2.scatter(db_sims_9['vU'],db_sims_9['vV'], lw=1.4, s=0.8, c=blue9)\n",
    "plt.xlabel(\"Principal Utility\",fontsize=10)\n",
    "plt.ylabel(\"Agent Utility\",fontsize=10)\n",
    "\n",
    "ax3 = fig.add_subplot(gs[:,6:7])\n",
    "#seting color bar\n",
    "#reds = cm.get_cmap('Reds', 256)\n",
    "\n",
    "norm = mpl.colors.Normalize(vmin=0, vmax=1)\n",
    "\n",
    "cbar = mpl.colorbar.ColorbarBase(ax3, \n",
    "                                 cmap=cmap_blue,\n",
    "                                 norm = norm)\n",
    "#cbar.set_ticks([0,255])\n",
    "cbar.set_label('Risk Aversion', \n",
    "               rotation = 270, \n",
    "               labelpad=15.0)\n",
    "\n",
    "#changing space between plots\n",
    "plt.subplots_adjust(bottom=0.17, right=0.9, top=0.9,wspace = 0.32)\n",
    "plt.show()\n",
    "\n",
    "plt.savefig('./reports/Per_Inf_GA_risk_aversion_1x2.pdf',dpi =100)\n"
   ]
  },
  {
   "cell_type": "markdown",
   "metadata": {},
   "source": [
    "# Loading existing database\n"
   ]
  },
  {
   "cell_type": "code",
   "execution_count": 5,
   "metadata": {
    "scrolled": false,
    "tags": []
   },
   "outputs": [
    {
     "data": {
      "text/html": [
       "<div>\n",
       "<style scoped>\n",
       "    .dataframe tbody tr th:only-of-type {\n",
       "        vertical-align: middle;\n",
       "    }\n",
       "\n",
       "    .dataframe tbody tr th {\n",
       "        vertical-align: top;\n",
       "    }\n",
       "\n",
       "    .dataframe thead th {\n",
       "        text-align: right;\n",
       "    }\n",
       "</style>\n",
       "<table border=\"1\" class=\"dataframe\">\n",
       "  <thead>\n",
       "    <tr style=\"text-align: right;\">\n",
       "      <th></th>\n",
       "      <th>sim</th>\n",
       "      <th>princ</th>\n",
       "      <th>agent</th>\n",
       "      <th>wl</th>\n",
       "      <th>wh</th>\n",
       "      <th>risk_averse</th>\n",
       "      <th>init_pop</th>\n",
       "      <th>gen</th>\n",
       "      <th>cutoff</th>\n",
       "    </tr>\n",
       "  </thead>\n",
       "  <tbody>\n",
       "    <tr>\n",
       "      <th>0</th>\n",
       "      <td>b614071e-9d54-4027-a275-ecfe8f8b9799</td>\n",
       "      <td>1.983400</td>\n",
       "      <td>0.377506</td>\n",
       "      <td>0.085311</td>\n",
       "      <td>1.939916</td>\n",
       "      <td>0.1</td>\n",
       "      <td>0.96</td>\n",
       "      <td>20</td>\n",
       "      <td>50000</td>\n",
       "    </tr>\n",
       "    <tr>\n",
       "      <th>1</th>\n",
       "      <td>b614071e-9d54-4027-a275-ecfe8f8b9799</td>\n",
       "      <td>1.958057</td>\n",
       "      <td>0.406117</td>\n",
       "      <td>0.134011</td>\n",
       "      <td>1.930540</td>\n",
       "      <td>0.1</td>\n",
       "      <td>0.96</td>\n",
       "      <td>20</td>\n",
       "      <td>50000</td>\n",
       "    </tr>\n",
       "    <tr>\n",
       "      <th>2</th>\n",
       "      <td>b614071e-9d54-4027-a275-ecfe8f8b9799</td>\n",
       "      <td>1.911869</td>\n",
       "      <td>0.448248</td>\n",
       "      <td>0.094959</td>\n",
       "      <td>2.081410</td>\n",
       "      <td>0.1</td>\n",
       "      <td>0.96</td>\n",
       "      <td>20</td>\n",
       "      <td>50000</td>\n",
       "    </tr>\n",
       "    <tr>\n",
       "      <th>3</th>\n",
       "      <td>b614071e-9d54-4027-a275-ecfe8f8b9799</td>\n",
       "      <td>1.105138</td>\n",
       "      <td>1.258426</td>\n",
       "      <td>0.950601</td>\n",
       "      <td>2.821997</td>\n",
       "      <td>0.1</td>\n",
       "      <td>0.96</td>\n",
       "      <td>20</td>\n",
       "      <td>50000</td>\n",
       "    </tr>\n",
       "    <tr>\n",
       "      <th>4</th>\n",
       "      <td>b614071e-9d54-4027-a275-ecfe8f8b9799</td>\n",
       "      <td>1.495374</td>\n",
       "      <td>0.879400</td>\n",
       "      <td>0.564469</td>\n",
       "      <td>2.430465</td>\n",
       "      <td>0.1</td>\n",
       "      <td>0.96</td>\n",
       "      <td>20</td>\n",
       "      <td>50000</td>\n",
       "    </tr>\n",
       "  </tbody>\n",
       "</table>\n",
       "</div>"
      ],
      "text/plain": [
       "                                    sim     princ     agent        wl  \\\n",
       "0  b614071e-9d54-4027-a275-ecfe8f8b9799  1.983400  0.377506  0.085311   \n",
       "1  b614071e-9d54-4027-a275-ecfe8f8b9799  1.958057  0.406117  0.134011   \n",
       "2  b614071e-9d54-4027-a275-ecfe8f8b9799  1.911869  0.448248  0.094959   \n",
       "3  b614071e-9d54-4027-a275-ecfe8f8b9799  1.105138  1.258426  0.950601   \n",
       "4  b614071e-9d54-4027-a275-ecfe8f8b9799  1.495374  0.879400  0.564469   \n",
       "\n",
       "         wh  risk_averse  init_pop  gen  cutoff  \n",
       "0  1.939916          0.1      0.96   20   50000  \n",
       "1  1.930540          0.1      0.96   20   50000  \n",
       "2  2.081410          0.1      0.96   20   50000  \n",
       "3  2.821997          0.1      0.96   20   50000  \n",
       "4  2.430465          0.1      0.96   20   50000  "
      ]
     },
     "execution_count": 5,
     "metadata": {},
     "output_type": "execute_result"
    }
   ],
   "source": [
    "# Creating a database and loading from disc, \n",
    "# run this cell each time you reopen the jupyter notebook\n",
    "\n",
    "name = \"simulations_50K\"\n",
    "#name = 'static_perf_10000_fix_cro_1_mut_0.2_key_d6268f5'\n",
    "#name = 'static_imp_10000_fix_cro_1.0_mut_0.2_key_6c27125'\n",
    "\n",
    "try:\n",
    "    db_sims = pd.read_csv('./data/{}.csv'.format(name))\n",
    "except:\n",
    "    print(\"Impossible to retrieve {}.cvc\".format(name))\n",
    "    \n",
    "#Cleaning dataframe, changing index,changing columns name in case they are wrong\n",
    "#db_sims.rename(columns= {'Unnamed: 0':'sim','cara':'risk_aversion_coefficient'},inplace=True)\n",
    "#db_sims.set_index('sim',inplace= True)\n",
    "#printing head of dataframe,checkingif everything is ok\n",
    "\n",
    "db_sims.columns = im.cols\n",
    "\n",
    "db_sims.head()"
   ]
  },
  {
   "cell_type": "code",
   "execution_count": 6,
   "metadata": {},
   "outputs": [
    {
     "data": {
      "text/html": [
       "<div>\n",
       "<style scoped>\n",
       "    .dataframe tbody tr th:only-of-type {\n",
       "        vertical-align: middle;\n",
       "    }\n",
       "\n",
       "    .dataframe tbody tr th {\n",
       "        vertical-align: top;\n",
       "    }\n",
       "\n",
       "    .dataframe thead th {\n",
       "        text-align: right;\n",
       "    }\n",
       "</style>\n",
       "<table border=\"1\" class=\"dataframe\">\n",
       "  <thead>\n",
       "    <tr style=\"text-align: right;\">\n",
       "      <th></th>\n",
       "      <th>sim</th>\n",
       "      <th>princ</th>\n",
       "      <th>agent</th>\n",
       "      <th>wl</th>\n",
       "      <th>wh</th>\n",
       "      <th>risk_averse</th>\n",
       "      <th>init_pop</th>\n",
       "      <th>gen</th>\n",
       "      <th>cutoff</th>\n",
       "      <th>effort</th>\n",
       "    </tr>\n",
       "  </thead>\n",
       "  <tbody>\n",
       "    <tr>\n",
       "      <th>0</th>\n",
       "      <td>b614071e-9d54-4027-a275-ecfe8f8b9799</td>\n",
       "      <td>1.983400</td>\n",
       "      <td>0.377506</td>\n",
       "      <td>0.085311</td>\n",
       "      <td>1.939916</td>\n",
       "      <td>0.1</td>\n",
       "      <td>0.96</td>\n",
       "      <td>20</td>\n",
       "      <td>50000</td>\n",
       "      <td>0.760107</td>\n",
       "    </tr>\n",
       "    <tr>\n",
       "      <th>1</th>\n",
       "      <td>b614071e-9d54-4027-a275-ecfe8f8b9799</td>\n",
       "      <td>1.958057</td>\n",
       "      <td>0.406117</td>\n",
       "      <td>0.134011</td>\n",
       "      <td>1.930540</td>\n",
       "      <td>0.1</td>\n",
       "      <td>0.96</td>\n",
       "      <td>20</td>\n",
       "      <td>50000</td>\n",
       "      <td>0.784144</td>\n",
       "    </tr>\n",
       "    <tr>\n",
       "      <th>2</th>\n",
       "      <td>b614071e-9d54-4027-a275-ecfe8f8b9799</td>\n",
       "      <td>1.911869</td>\n",
       "      <td>0.448248</td>\n",
       "      <td>0.094959</td>\n",
       "      <td>2.081410</td>\n",
       "      <td>0.1</td>\n",
       "      <td>0.96</td>\n",
       "      <td>20</td>\n",
       "      <td>50000</td>\n",
       "      <td>0.825372</td>\n",
       "    </tr>\n",
       "    <tr>\n",
       "      <th>3</th>\n",
       "      <td>b614071e-9d54-4027-a275-ecfe8f8b9799</td>\n",
       "      <td>1.105138</td>\n",
       "      <td>1.258426</td>\n",
       "      <td>0.950601</td>\n",
       "      <td>2.821997</td>\n",
       "      <td>0.1</td>\n",
       "      <td>0.96</td>\n",
       "      <td>20</td>\n",
       "      <td>50000</td>\n",
       "      <td>1.357933</td>\n",
       "    </tr>\n",
       "    <tr>\n",
       "      <th>4</th>\n",
       "      <td>b614071e-9d54-4027-a275-ecfe8f8b9799</td>\n",
       "      <td>1.495374</td>\n",
       "      <td>0.879400</td>\n",
       "      <td>0.564469</td>\n",
       "      <td>2.430465</td>\n",
       "      <td>0.1</td>\n",
       "      <td>0.96</td>\n",
       "      <td>20</td>\n",
       "      <td>50000</td>\n",
       "      <td>1.142670</td>\n",
       "    </tr>\n",
       "  </tbody>\n",
       "</table>\n",
       "</div>"
      ],
      "text/plain": [
       "                                    sim     princ     agent        wl  \\\n",
       "0  b614071e-9d54-4027-a275-ecfe8f8b9799  1.983400  0.377506  0.085311   \n",
       "1  b614071e-9d54-4027-a275-ecfe8f8b9799  1.958057  0.406117  0.134011   \n",
       "2  b614071e-9d54-4027-a275-ecfe8f8b9799  1.911869  0.448248  0.094959   \n",
       "3  b614071e-9d54-4027-a275-ecfe8f8b9799  1.105138  1.258426  0.950601   \n",
       "4  b614071e-9d54-4027-a275-ecfe8f8b9799  1.495374  0.879400  0.564469   \n",
       "\n",
       "         wh  risk_averse  init_pop  gen  cutoff    effort  \n",
       "0  1.939916          0.1      0.96   20   50000  0.760107  \n",
       "1  1.930540          0.1      0.96   20   50000  0.784144  \n",
       "2  2.081410          0.1      0.96   20   50000  0.825372  \n",
       "3  2.821997          0.1      0.96   20   50000  1.357933  \n",
       "4  2.430465          0.1      0.96   20   50000  1.142670  "
      ]
     },
     "execution_count": 6,
     "metadata": {},
     "output_type": "execute_result"
    }
   ],
   "source": [
    "#Constructing effort column\n",
    "def effort(row):\n",
    "    c = 1-row['risk_averse']\n",
    "    row['effort'] = np.log( (row['wl']**c +row['wh']**c)/(c))\n",
    "    return row\n",
    "\n",
    "db_sims=db_sims.apply(effort, axis=1)\n",
    "\n",
    "db_sims.head()"
   ]
  },
  {
   "cell_type": "code",
   "execution_count": 7,
   "metadata": {},
   "outputs": [
    {
     "data": {
      "text/html": [
       "<div>\n",
       "<style scoped>\n",
       "    .dataframe tbody tr th:only-of-type {\n",
       "        vertical-align: middle;\n",
       "    }\n",
       "\n",
       "    .dataframe tbody tr th {\n",
       "        vertical-align: top;\n",
       "    }\n",
       "\n",
       "    .dataframe thead th {\n",
       "        text-align: right;\n",
       "    }\n",
       "</style>\n",
       "<table border=\"1\" class=\"dataframe\">\n",
       "  <thead>\n",
       "    <tr style=\"text-align: right;\">\n",
       "      <th></th>\n",
       "      <th>sim</th>\n",
       "      <th>princ</th>\n",
       "      <th>agent</th>\n",
       "      <th>wl</th>\n",
       "      <th>wh</th>\n",
       "      <th>risk_averse</th>\n",
       "      <th>init_pop</th>\n",
       "      <th>gen</th>\n",
       "      <th>cutoff</th>\n",
       "      <th>effort</th>\n",
       "      <th>gap</th>\n",
       "    </tr>\n",
       "  </thead>\n",
       "  <tbody>\n",
       "    <tr>\n",
       "      <th>0</th>\n",
       "      <td>b614071e-9d54-4027-a275-ecfe8f8b9799</td>\n",
       "      <td>1.983400</td>\n",
       "      <td>0.377506</td>\n",
       "      <td>0.085311</td>\n",
       "      <td>1.939916</td>\n",
       "      <td>0.1</td>\n",
       "      <td>0.96</td>\n",
       "      <td>20</td>\n",
       "      <td>50000</td>\n",
       "      <td>0.760107</td>\n",
       "      <td>1.854605</td>\n",
       "    </tr>\n",
       "    <tr>\n",
       "      <th>1</th>\n",
       "      <td>b614071e-9d54-4027-a275-ecfe8f8b9799</td>\n",
       "      <td>1.958057</td>\n",
       "      <td>0.406117</td>\n",
       "      <td>0.134011</td>\n",
       "      <td>1.930540</td>\n",
       "      <td>0.1</td>\n",
       "      <td>0.96</td>\n",
       "      <td>20</td>\n",
       "      <td>50000</td>\n",
       "      <td>0.784144</td>\n",
       "      <td>1.796529</td>\n",
       "    </tr>\n",
       "    <tr>\n",
       "      <th>2</th>\n",
       "      <td>b614071e-9d54-4027-a275-ecfe8f8b9799</td>\n",
       "      <td>1.911869</td>\n",
       "      <td>0.448248</td>\n",
       "      <td>0.094959</td>\n",
       "      <td>2.081410</td>\n",
       "      <td>0.1</td>\n",
       "      <td>0.96</td>\n",
       "      <td>20</td>\n",
       "      <td>50000</td>\n",
       "      <td>0.825372</td>\n",
       "      <td>1.986451</td>\n",
       "    </tr>\n",
       "    <tr>\n",
       "      <th>3</th>\n",
       "      <td>b614071e-9d54-4027-a275-ecfe8f8b9799</td>\n",
       "      <td>1.105138</td>\n",
       "      <td>1.258426</td>\n",
       "      <td>0.950601</td>\n",
       "      <td>2.821997</td>\n",
       "      <td>0.1</td>\n",
       "      <td>0.96</td>\n",
       "      <td>20</td>\n",
       "      <td>50000</td>\n",
       "      <td>1.357933</td>\n",
       "      <td>1.871396</td>\n",
       "    </tr>\n",
       "    <tr>\n",
       "      <th>4</th>\n",
       "      <td>b614071e-9d54-4027-a275-ecfe8f8b9799</td>\n",
       "      <td>1.495374</td>\n",
       "      <td>0.879400</td>\n",
       "      <td>0.564469</td>\n",
       "      <td>2.430465</td>\n",
       "      <td>0.1</td>\n",
       "      <td>0.96</td>\n",
       "      <td>20</td>\n",
       "      <td>50000</td>\n",
       "      <td>1.142670</td>\n",
       "      <td>1.865996</td>\n",
       "    </tr>\n",
       "  </tbody>\n",
       "</table>\n",
       "</div>"
      ],
      "text/plain": [
       "                                    sim     princ     agent        wl  \\\n",
       "0  b614071e-9d54-4027-a275-ecfe8f8b9799  1.983400  0.377506  0.085311   \n",
       "1  b614071e-9d54-4027-a275-ecfe8f8b9799  1.958057  0.406117  0.134011   \n",
       "2  b614071e-9d54-4027-a275-ecfe8f8b9799  1.911869  0.448248  0.094959   \n",
       "3  b614071e-9d54-4027-a275-ecfe8f8b9799  1.105138  1.258426  0.950601   \n",
       "4  b614071e-9d54-4027-a275-ecfe8f8b9799  1.495374  0.879400  0.564469   \n",
       "\n",
       "         wh  risk_averse  init_pop  gen  cutoff    effort       gap  \n",
       "0  1.939916          0.1      0.96   20   50000  0.760107  1.854605  \n",
       "1  1.930540          0.1      0.96   20   50000  0.784144  1.796529  \n",
       "2  2.081410          0.1      0.96   20   50000  0.825372  1.986451  \n",
       "3  2.821997          0.1      0.96   20   50000  1.357933  1.871396  \n",
       "4  2.430465          0.1      0.96   20   50000  1.142670  1.865996  "
      ]
     },
     "execution_count": 7,
     "metadata": {},
     "output_type": "execute_result"
    }
   ],
   "source": [
    "#Constructing gap salary column\n",
    "def gap(row):\n",
    "    row['gap'] = row['wh']-row['wl']\n",
    "    return row\n",
    "\n",
    "db_sims_eff_gap = db_sims.apply(gap, axis=1)\n",
    "\n",
    "db_sims = db_sims_eff_gap\n",
    "\n",
    "db_sims_eff_gap.head()"
   ]
  },
  {
   "cell_type": "code",
   "execution_count": 8,
   "metadata": {},
   "outputs": [],
   "source": [
    "U_ga90 = db_sims[(db_sims['risk_averse']==0.9)]['princ']\n",
    "V_ga90 = db_sims[(db_sims['risk_averse']==0.9)]['agent']\n",
    "WL_ga90 = db_sims[(db_sims['risk_averse']==0.9)]['wl']\n",
    "WH_ga90 = db_sims[(db_sims['risk_averse']==0.9)]['wh']\n",
    "effort_90 = db_sims[(db_sims['risk_averse']==0.9)]['effort']\n",
    "gap_90 = db_sims[(db_sims['risk_averse']==0.9)]['gap']\n",
    "\n",
    "U_ga70 = db_sims[(db_sims['risk_averse']==0.7)]['princ']\n",
    "V_ga70 = db_sims[(db_sims['risk_averse']==0.7)]['agent']\n",
    "WL_ga70 = db_sims[(db_sims['risk_averse']==0.7)]['wl']\n",
    "WH_ga70 = db_sims[(db_sims['risk_averse']==0.7)]['wh']\n",
    "effort_70 = db_sims[(db_sims['risk_averse']==0.7)]['effort']\n",
    "gap_70 = db_sims[(db_sims['risk_averse']==0.7)]['gap']\n",
    "\n",
    "U_ga50 = db_sims[(db_sims['risk_averse']==0.5)]['princ']\n",
    "V_ga50 = db_sims[(db_sims['risk_averse']==0.5)]['agent']\n",
    "WL_ga50 = db_sims[(db_sims['risk_averse']==0.5)]['wl']\n",
    "WH_ga50 = db_sims[(db_sims['risk_averse']==0.5)]['wh']\n",
    "effort_50 = db_sims[(db_sims['risk_averse']==0.5)]['effort']\n",
    "gap_50 = db_sims[(db_sims['risk_averse']==0.5)]['gap']\n",
    "\n",
    "U_ga30 = db_sims[(db_sims['risk_averse']==0.3)]['princ']\n",
    "V_ga30 = db_sims[(db_sims['risk_averse']==0.3)]['agent']\n",
    "WL_ga30 = db_sims[(db_sims['risk_averse']==0.3)]['wl']\n",
    "WH_ga30 = db_sims[(db_sims['risk_averse']==0.3)]['wh']\n",
    "effort_30 = db_sims[(db_sims['risk_averse']==0.3)]['effort']\n",
    "gap_30 = db_sims[(db_sims['risk_averse']==0.3)]['gap']\n",
    "\n",
    "U_ga10 = db_sims[(db_sims['risk_averse']==0.1)]['princ']\n",
    "V_ga10 = db_sims[(db_sims['risk_averse']==0.1)]['agent']\n",
    "WL_ga10 = db_sims[(db_sims['risk_averse']==0.1)]['wl']\n",
    "WH_ga10 = db_sims[(db_sims['risk_averse']==0.1)]['wh']\n",
    "effort_10 = db_sims[(db_sims['risk_averse']==0.1)]['effort']\n",
    "gap_10 = db_sims[(db_sims['risk_averse']==0.1)]['gap']"
   ]
  },
  {
   "cell_type": "code",
   "execution_count": null,
   "metadata": {},
   "outputs": [],
   "source": []
  },
  {
   "cell_type": "markdown",
   "metadata": {},
   "source": [
    "# Ploting\n"
   ]
  },
  {
   "cell_type": "code",
   "execution_count": 9,
   "metadata": {
    "scrolled": false
   },
   "outputs": [
    {
     "data": {
      "image/png": "[encoded data removed]",
      "text/plain": [
       "<Figure size 576x288 with 2 Axes>"
      ]
     },
     "metadata": {
      "needs_background": "light"
     },
     "output_type": "display_data"
    },
    {
     "data": {
      "text/plain": [
       "<Figure size 432x288 with 0 Axes>"
      ]
     },
     "metadata": {},
     "output_type": "display_data"
    }
   ],
   "source": [
    "plt.figure(figsize=(8, 4))\n",
    "\n",
    "plt.subplot(121)\n",
    "plt.scatter(U_ga50, V_ga50, color ='#41ab5d', s=1.0, alpha=1)\n",
    "plt.ylabel(\"Agent utility\", fontsize=10)\n",
    "plt.xlabel(\"Principal utility\", fontsize=10)\n",
    "plt.subplot(122)\n",
    "plt.scatter(WL_ga50, WH_ga50, color ='#41ab5d', s=1.0, alpha=1)\n",
    "plt.xlabel(\"Low Salary\",fontsize=10)\n",
    "plt.ylabel(\"High Salary\",fontsize=10)\n",
    "plt.show()\n",
    "\n",
    "\n",
    "\n",
    "plt.savefig('./reports/GA_Imperf_Inf.pdf',dpi =60)\n",
    "\n",
    "plt.show()"
   ]
  },
  {
   "cell_type": "code",
   "execution_count": 10,
   "metadata": {
    "scrolled": false
   },
   "outputs": [
    {
     "data": {
      "image/png": "[encoded data removed]",
      "text/plain": [
       "<Figure size 576x216 with 3 Axes>"
      ]
     },
     "metadata": {
      "needs_background": "light"
     },
     "output_type": "display_data"
    },
    {
     "data": {
      "text/plain": [
       "<Figure size 432x288 with 0 Axes>"
      ]
     },
     "metadata": {},
     "output_type": "display_data"
    }
   ],
   "source": [
    "fig= plt.figure(figsize=(8, 3), constrained_layout=False)#\n",
    "gs = fig.add_gridspec(1, 8, hspace = 6, wspace=3)\n",
    "# Getting specific colors in colorbar\n",
    "cmap_blue = mpl.cm.Blues #using Blues\n",
    "\n",
    "ax1 = fig.add_subplot(gs[:, 0:3])\n",
    "#ax1 = fig.add_subplot()\n",
    "ax1.scatter(WL_ga10, WH_ga10, lw=1.4, s=0.9, c='#DCEAF7')\n",
    "ax1.scatter(WL_ga30, WH_ga30, lw=1.4, s=0.9, c='#B8D4EA')\n",
    "ax1.scatter(WL_ga50, WH_ga50, lw=1.4, s=0.9, c='#6BAFD4')\n",
    "ax1.scatter(WL_ga70, WH_ga70, lw=1.4, s=0.9, c='#2E7FBE')\n",
    "ax1.scatter(WL_ga90, WH_ga90, lw=1.4, s=0.9, c='#074B96')\n",
    "plt.xlabel(\"Low Salary\",fontsize=10)\n",
    "plt.ylabel(\"High Salary\",fontsize=10)\n",
    "\n",
    "ax2 = fig.add_subplot(gs[:, 3:6])\n",
    "ax2.scatter(U_ga10, V_ga10, lw=1.4, s=0.9, c='#DCEAF7')\n",
    "ax2.scatter(U_ga30, V_ga30, lw=1.4, s=0.9, c='#B8D4EA')\n",
    "ax2.scatter(U_ga50, V_ga50, lw=1.4, s=0.9, c='#6BAFD4')\n",
    "ax2.scatter(U_ga70, V_ga70, lw=1.4, s=0.9, c='#2E7FBE')\n",
    "ax2.scatter(U_ga90, V_ga90, lw=1.4, s=0.9, c='#074B96')\n",
    "plt.xlabel(\"Principal Utility\",fontsize=10)\n",
    "plt.ylabel(\"Agent Utility\",fontsize=10)\n",
    "\n",
    "ax3 = fig.add_subplot(gs[:,6:7])\n",
    "#seting color bar\n",
    "#reds = cm.get_cmap('Reds', 256)\n",
    "\n",
    "norm = mpl.colors.Normalize(vmin=0, vmax=1)\n",
    "\n",
    "cbar = mpl.colorbar.ColorbarBase(ax3, \n",
    "                                 cmap=cmap_blue,\n",
    "                                 norm = norm)\n",
    "#cbar.set_ticks([0,255])\n",
    "cbar.set_label('Risk Aversion', \n",
    "               rotation = 270, \n",
    "               labelpad=15.0)\n",
    "\n",
    "#changing space between plots\n",
    "plt.subplots_adjust(bottom=0.17, right=0.9, top=0.9,wspace = 0.32)\n",
    "plt.show()\n",
    "\n",
    "plt.savefig('./reports/Imp_Inf_GA_risk_aversion_1x2.pdf')\n"
   ]
  },
  {
   "cell_type": "code",
   "execution_count": 11,
   "metadata": {},
   "outputs": [
    {
     "data": {
      "image/png": "[encoded data removed]",
      "text/plain": [
       "<Figure size 576x216 with 3 Axes>"
      ]
     },
     "metadata": {
      "needs_background": "light"
     },
     "output_type": "display_data"
    },
    {
     "data": {
      "text/plain": [
       "<Figure size 432x288 with 0 Axes>"
      ]
     },
     "metadata": {},
     "output_type": "display_data"
    }
   ],
   "source": [
    "fig= plt.figure(figsize=(8, 3), constrained_layout=False)#\n",
    "gs = fig.add_gridspec(1, 8, hspace = 6, wspace=3)\n",
    "# Getting specific colors in colorbar\n",
    "cmap_blue = mpl.cm.Blues #using Blues\n",
    "\n",
    "ax1 = fig.add_subplot(gs[:, 0:3])\n",
    "#ax1 = fig.add_subplot()\n",
    "ax1.scatter(V_ga10, effort_10, lw=1.4, s=0.9, c='#DCEAF7')\n",
    "ax1.scatter(V_ga30, effort_30, lw=1.4, s=0.9, c='#B8D4EA')\n",
    "ax1.scatter(V_ga50, effort_50, lw=1.4, s=0.9, c='#6BAFD4')\n",
    "ax1.scatter(V_ga70, effort_70, lw=1.4, s=0.9, c='#2E7FBE')\n",
    "ax1.scatter(V_ga90, effort_90, lw=1.4, s=0.9, c='#074B96')\n",
    "plt.xlabel(\"Agent Utility\",fontsize=10)\n",
    "plt.ylabel(\"Effort\",fontsize=10)\n",
    "\n",
    "ax2 = fig.add_subplot(gs[:, 3:6])\n",
    "#ax1 = fig.add_subplot()\n",
    "ax2.scatter(V_ga10, gap_10, lw=1.4, s=0.9, c='#DCEAF7')\n",
    "ax2.scatter(V_ga30, gap_30, lw=1.4, s=0.9, c='#B8D4EA')\n",
    "ax2.scatter(V_ga50, gap_50, lw=1.4, s=0.9, c='#6BAFD4')\n",
    "ax2.scatter(V_ga70, gap_70, lw=1.4, s=0.9, c='#2E7FBE')\n",
    "ax2.scatter(V_ga90, gap_90, lw=1.4, s=0.9, c='#074B96')\n",
    "plt.xlabel(\"Agent Utility\",fontsize=10)\n",
    "plt.ylabel(\"Salary Difference\",fontsize=10)\n",
    "\n",
    "ax3 = fig.add_subplot(gs[:,6:7])\n",
    "#seting color bar\n",
    "#reds = cm.get_cmap('Reds', 256)\n",
    "\n",
    "norm = mpl.colors.Normalize(vmin=0, vmax=1)\n",
    "\n",
    "cbar = mpl.colorbar.ColorbarBase(ax3, \n",
    "                                 cmap=cmap_blue,\n",
    "                                 norm = norm)\n",
    "#cbar.set_ticks([0,255])\n",
    "cbar.set_label('Risk Aversion', \n",
    "               rotation = 270, \n",
    "               labelpad=15.0)\n",
    "\n",
    "#changing space between plots\n",
    "plt.subplots_adjust(bottom=0.17, right=0.9, top=0.9,wspace = 0.32)\n",
    "plt.show()\n",
    "\n",
    "plt.savefig('./reports/Imp_Inf_GA_risk_aversion_effort_gap_1x2.pdf')"
   ]
  },
  {
   "cell_type": "code",
   "execution_count": 12,
   "metadata": {},
   "outputs": [
    {
     "data": {
      "image/png": "[encoded data removed]",
      "text/plain": [
       "<Figure size 576x216 with 3 Axes>"
      ]
     },
     "metadata": {
      "needs_background": "light"
     },
     "output_type": "display_data"
    },
    {
     "data": {
      "text/plain": [
       "<Figure size 432x288 with 0 Axes>"
      ]
     },
     "metadata": {},
     "output_type": "display_data"
    }
   ],
   "source": [
    "#markers' list, not found in code, redefined 29.9.2020\n",
    "marks =[\"o\",\"h\",\"v\",\"<\",\">\"]\n",
    "marks =[\".\",\".\",\".\",\".\"]\n",
    "\n",
    "fig= plt.figure(figsize=(8, 3), constrained_layout=False)#\n",
    "gs = fig.add_gridspec(1, 8, hspace = 6, wspace=3)\n",
    "# Getting specific colors in colorbar\n",
    "cmap_blue = mpl.cm.Blues #using Blues\n",
    "\n",
    "ax1 = fig.add_subplot(gs[:, 0:3])\n",
    "#ax1 = fig.add_subplot()\n",
    "ax1.scatter(V_ga10, effort_10, lw=1.4, s=0.9, c='#DCEAF7')\n",
    "ax1.scatter(V_ga30, effort_30, lw=1.4, s=0.9, c='#B8D4EA')\n",
    "ax1.scatter(V_ga50, effort_50, lw=1.4, s=0.9, c='#6BAFD4')\n",
    "ax1.scatter(V_ga70, effort_70, lw=1.4, s=0.9, c='#2E7FBE')\n",
    "ax1.scatter(V_ga90, effort_90, lw=1.4, s=0.9, c='#074B96')\n",
    "plt.xlabel(\"Agent Utility\",fontsize=10)\n",
    "plt.ylabel(\"Effort\",fontsize=10)\n",
    "\n",
    "ax2 = fig.add_subplot(gs[:, 3:6])\n",
    "#ax1 = fig.add_subplot()\n",
    "ax2.scatter(V_ga10, WL_ga10, lw=1.4, s=0.9, c='#DCEAF7', marker=marks[1])\n",
    "ax2.scatter(V_ga10, WH_ga10, lw=1.4, s=15.0, c='#DCEAF7', marker=marks[3])\n",
    "ax2.scatter(V_ga30, WL_ga30, lw=1.4, s=0.9, c='#B8D4EA', marker=marks[1])\n",
    "ax2.scatter(V_ga30, WH_ga30, lw=1.4, s=15.0, c='#B8D4EA', marker=marks[3])\n",
    "ax2.scatter(V_ga50, WL_ga50, lw=1.4, s=0.9, c='#6BAFD4', marker=marks[1])\n",
    "ax2.scatter(V_ga50, WH_ga50, lw=1.4, s=15.0, c='#6BAFD4', marker=marks[3])\n",
    "ax2.scatter(V_ga70, WL_ga70, lw=1.4, s=0.9, c='#2E7FBE', marker=marks[1])\n",
    "ax2.scatter(V_ga70, WH_ga70, lw=1.4, s=15.0, c='#2E7FBE', marker=marks[3])\n",
    "ax2.scatter(V_ga90, WL_ga90, lw=1.4, s=0.9, c='#074B96', marker=marks[1])\n",
    "ax2.scatter(V_ga90, WH_ga90, lw=1.4, s=15.0, c='#074B96', marker=marks[3])\n",
    "plt.xlabel(\"Agent Utility\",fontsize=10)\n",
    "plt.ylabel(\"Salary\",fontsize=10)\n",
    "\n",
    "ax3 = fig.add_subplot(gs[:,6:7])\n",
    "#seting color bar\n",
    "#reds = cm.get_cmap('Reds', 256)\n",
    "\n",
    "norm = mpl.colors.Normalize(vmin=0, vmax=1)\n",
    "\n",
    "cbar = mpl.colorbar.ColorbarBase(ax3, \n",
    "                                 cmap=cmap_blue,\n",
    "                                 norm = norm)\n",
    "#cbar.set_ticks([0,255])\n",
    "cbar.set_label('Risk Aversion', \n",
    "               rotation = 270, \n",
    "               labelpad=15.0)\n",
    "\n",
    "#changing space between plots\n",
    "plt.subplots_adjust(bottom=0.17, right=0.9, top=0.9,wspace = 0.32)\n",
    "plt.show()\n",
    "\n",
    "plt.savefig('./reports/Imp_Inf_GA_risk_aversion_effort_1x2.pdf')"
   ]
  },
  {
   "cell_type": "code",
   "execution_count": 13,
   "metadata": {
    "scrolled": true
   },
   "outputs": [
    {
     "data": {
      "image/png": "[encoded data removed]",
      "text/plain": [
       "<Figure size 648x216 with 4 Axes>"
      ]
     },
     "metadata": {
      "needs_background": "light"
     },
     "output_type": "display_data"
    },
    {
     "data": {
      "text/plain": [
       "<Figure size 432x288 with 0 Axes>"
      ]
     },
     "metadata": {},
     "output_type": "display_data"
    }
   ],
   "source": [
    "fig= plt.figure(figsize=(9, 3), constrained_layout=False)#\n",
    "gs = fig.add_gridspec(1, 10, hspace = 6, wspace=3)\n",
    "# Getting specific colors in colorbar\n",
    "cmap_blue = mpl.cm.Blues #using Blues\n",
    "marks = [\">\", '^', (5,0), '+', (5,2)]#, (5,1)]\n",
    "\n",
    "ax1 = fig.add_subplot(gs[:, 0:3])\n",
    "#ax1 = fig.add_subplot()\n",
    "ax1.scatter(WL_ga10, WH_ga10, lw=1.4, s=0.9, c='#DCEAF7')\n",
    "ax1.scatter(WL_ga30, WH_ga30, lw=1.4, s=0.9, c='#B8D4EA')\n",
    "ax1.scatter(WL_ga50, WH_ga50, lw=1.4, s=0.9, c='#6BAFD4')\n",
    "ax1.scatter(WL_ga70, WH_ga70, lw=1.4, s=0.9, c='#2E7FBE')\n",
    "ax1.scatter(WL_ga90, WH_ga90, lw=1.4, s=0.9, c='#074B96')\n",
    "plt.xlabel(\"Low Salary\",fontsize=10)\n",
    "plt.ylabel(\"High Salary\",fontsize=10)\n",
    "\n",
    "ax2 = fig.add_subplot(gs[:, 3:6])\n",
    "#ax1 = fig.add_subplot()\n",
    "ax2.scatter(V_ga10, WL_ga10, lw=1.4, s=0.9, c='#DCEAF7', marker=marks[1])\n",
    "ax2.scatter(V_ga10, WH_ga10, lw=1.4, s=15.0, c='#DCEAF7', marker=marks[3])\n",
    "ax2.scatter(V_ga30, WL_ga30, lw=1.4, s=0.9, c='#B8D4EA', marker=marks[1])\n",
    "ax2.scatter(V_ga30, WH_ga30, lw=1.4, s=15.0, c='#B8D4EA', marker=marks[3])\n",
    "ax2.scatter(V_ga50, WL_ga50, lw=1.4, s=0.9, c='#6BAFD4', marker=marks[1])\n",
    "ax2.scatter(V_ga50, WH_ga50, lw=1.4, s=15.0, c='#6BAFD4', marker=marks[3])\n",
    "ax2.scatter(V_ga70, WL_ga70, lw=1.4, s=0.9, c='#2E7FBE', marker=marks[1])\n",
    "ax2.scatter(V_ga70, WH_ga70, lw=1.4, s=15.0, c='#2E7FBE', marker=marks[3])\n",
    "ax2.scatter(V_ga90, WL_ga90, lw=1.4, s=0.9, c='#074B96', marker=marks[1])\n",
    "ax2.scatter(V_ga90, WH_ga90, lw=1.4, s=15.0, c='#074B96', marker=marks[3])\n",
    "plt.xlabel(\"Agent Utility\",fontsize=10)\n",
    "plt.ylabel(\"Salary\",fontsize=10)\n",
    "\n",
    "ax3 = fig.add_subplot(gs[:, 6:9])\n",
    "ax3.scatter(U_ga10, V_ga10, lw=1.4, s=0.9, c='#DCEAF7')\n",
    "ax3.scatter(U_ga30, V_ga30, lw=1.4, s=0.9, c='#B8D4EA')\n",
    "ax3.scatter(U_ga50, V_ga50, lw=1.4, s=0.9, c='#6BAFD4')\n",
    "ax3.scatter(U_ga70, V_ga70, lw=1.4, s=0.9, c='#2E7FBE')\n",
    "ax3.scatter(U_ga90, V_ga90, lw=1.4, s=0.9, c='#074B96')\n",
    "plt.xlabel(\"Principal Utility\",fontsize=10)\n",
    "plt.ylabel(\"Agent Utility\",fontsize=10)\n",
    "\n",
    "\n",
    "ax4 = fig.add_subplot(gs[:,9:10])\n",
    "#seting color bar\n",
    "#reds = cm.get_cmap('Reds', 256)\n",
    "\n",
    "norm = mpl.colors.Normalize(vmin=0, vmax=1)\n",
    "\n",
    "cbar = mpl.colorbar.ColorbarBase(ax4, \n",
    "                                 cmap=cmap_blue,\n",
    "                                 norm = norm)\n",
    "#cbar.set_ticks([0,255])\n",
    "cbar.set_label('Risk Aversion', \n",
    "               rotation = 270, \n",
    "               labelpad=15.0)\n",
    "\n",
    "#changing space between plots\n",
    "plt.subplots_adjust(bottom=0.17, right=0.9, top=0.9,wspace = 0.32)\n",
    "plt.show()\n",
    "\n",
    "plt.savefig('./reports/Imp_Inf_GA_risk_aversion_1x3.pdf')"
   ]
  },
  {
   "cell_type": "code",
   "execution_count": 15,
   "metadata": {
    "scrolled": true
   },
   "outputs": [
    {
     "data": {
      "image/png": "[encoded data removed]",
      "text/plain": [
       "<Figure size 432x288 with 2 Axes>"
      ]
     },
     "metadata": {
      "needs_background": "light"
     },
     "output_type": "display_data"
    },
    {
     "data": {
      "text/plain": [
       "<Figure size 432x288 with 0 Axes>"
      ]
     },
     "metadata": {},
     "output_type": "display_data"
    }
   ],
   "source": [
    "db_sims.plot.scatter(x = 'agent', y = 'princ',\n",
    "                     c = 'risk_averse',\n",
    "                     #colormap='Binary',\n",
    "                     #colormap = 'Wistia',\n",
    "                     colormap ='Blues',\n",
    "                     #colormap = 'Greys',\n",
    "                     #colormap='viridis',\n",
    "                     lw = 1.4, s = 1.0, alpha = 1)\n",
    "plt.ylabel(\"Agent utility\", fontsize=10)\n",
    "plt.xlabel(\"Principal utility\", fontsize=10)\n",
    "#Adding color barcbar = plt.colorbar()\n",
    "\n",
    "plt.show()\n",
    "\n",
    "plt.savefig('./reports/Pareto_Front_asymmetric.pdf')\n"
   ]
  },
  {
   "cell_type": "code",
   "execution_count": 17,
   "metadata": {
    "scrolled": true
   },
   "outputs": [
    {
     "data": {
      "image/png": "[encoded data removed]",
      "text/plain": [
       "<Figure size 432x288 with 2 Axes>"
      ]
     },
     "metadata": {
      "needs_background": "light"
     },
     "output_type": "display_data"
    }
   ],
   "source": [
    "db_sims.plot.scatter(x='wl',y='wh',\n",
    "                     c='risk_averse',\n",
    "                     #colormap='viridis',\n",
    "                     #colormap='Binary',\n",
    "                     colormap ='Blues',\n",
    "                     #colormap='Greys',\n",
    "                     lw=1.4,s=1.0,alpha=1)\n",
    "plt.xlabel(\"Low salary\")\n",
    "plt.ylabel(\"High salary\")\n",
    "\n",
    "\n",
    "plt.savefig('./reports/Salary_asymmetric.pdf')\n"
   ]
  },
  {
   "cell_type": "markdown",
   "metadata": {},
   "source": [
    "# Ploting with comparation"
   ]
  },
  {
   "cell_type": "code",
   "execution_count": 19,
   "metadata": {},
   "outputs": [
    {
     "data": {
      "text/html": [
       "<div>\n",
       "<style scoped>\n",
       "    .dataframe tbody tr th:only-of-type {\n",
       "        vertical-align: middle;\n",
       "    }\n",
       "\n",
       "    .dataframe tbody tr th {\n",
       "        vertical-align: top;\n",
       "    }\n",
       "\n",
       "    .dataframe thead th {\n",
       "        text-align: right;\n",
       "    }\n",
       "</style>\n",
       "<table border=\"1\" class=\"dataframe\">\n",
       "  <thead>\n",
       "    <tr style=\"text-align: right;\">\n",
       "      <th></th>\n",
       "      <th>vU</th>\n",
       "      <th>vV</th>\n",
       "      <th>WL</th>\n",
       "      <th>WH</th>\n",
       "      <th>RiskAverse</th>\n",
       "      <th>init_pop</th>\n",
       "      <th>gens</th>\n",
       "      <th>cutoff</th>\n",
       "    </tr>\n",
       "    <tr>\n",
       "      <th>sim</th>\n",
       "      <th></th>\n",
       "      <th></th>\n",
       "      <th></th>\n",
       "      <th></th>\n",
       "      <th></th>\n",
       "      <th></th>\n",
       "      <th></th>\n",
       "      <th></th>\n",
       "    </tr>\n",
       "  </thead>\n",
       "  <tbody>\n",
       "    <tr>\n",
       "      <th>11e6cd2f-dab1-4133-ad06-afcd0342c428</th>\n",
       "      <td>1.143874</td>\n",
       "      <td>1.960806</td>\n",
       "      <td>0.875074</td>\n",
       "      <td>2.817135</td>\n",
       "      <td>0.5</td>\n",
       "      <td>10</td>\n",
       "      <td>80000</td>\n",
       "      <td>0</td>\n",
       "    </tr>\n",
       "    <tr>\n",
       "      <th>11e6cd2f-dab1-4133-ad06-afcd0342c428</th>\n",
       "      <td>1.503191</td>\n",
       "      <td>1.303344</td>\n",
       "      <td>0.083237</td>\n",
       "      <td>2.735731</td>\n",
       "      <td>0.5</td>\n",
       "      <td>10</td>\n",
       "      <td>80000</td>\n",
       "      <td>0</td>\n",
       "    </tr>\n",
       "    <tr>\n",
       "      <th>11e6cd2f-dab1-4133-ad06-afcd0342c428</th>\n",
       "      <td>0.904654</td>\n",
       "      <td>2.131348</td>\n",
       "      <td>0.996615</td>\n",
       "      <td>3.256526</td>\n",
       "      <td>0.5</td>\n",
       "      <td>10</td>\n",
       "      <td>80000</td>\n",
       "      <td>0</td>\n",
       "    </tr>\n",
       "    <tr>\n",
       "      <th>11e6cd2f-dab1-4133-ad06-afcd0342c428</th>\n",
       "      <td>2.050364</td>\n",
       "      <td>0.972343</td>\n",
       "      <td>0.104834</td>\n",
       "      <td>1.799764</td>\n",
       "      <td>0.5</td>\n",
       "      <td>10</td>\n",
       "      <td>80000</td>\n",
       "      <td>0</td>\n",
       "    </tr>\n",
       "    <tr>\n",
       "      <th>11e6cd2f-dab1-4133-ad06-afcd0342c428</th>\n",
       "      <td>1.191454</td>\n",
       "      <td>1.915589</td>\n",
       "      <td>0.821870</td>\n",
       "      <td>2.783089</td>\n",
       "      <td>0.5</td>\n",
       "      <td>10</td>\n",
       "      <td>80000</td>\n",
       "      <td>0</td>\n",
       "    </tr>\n",
       "  </tbody>\n",
       "</table>\n",
       "</div>"
      ],
      "text/plain": [
       "                                            vU        vV        WL        WH  \\\n",
       "sim                                                                            \n",
       "11e6cd2f-dab1-4133-ad06-afcd0342c428  1.143874  1.960806  0.875074  2.817135   \n",
       "11e6cd2f-dab1-4133-ad06-afcd0342c428  1.503191  1.303344  0.083237  2.735731   \n",
       "11e6cd2f-dab1-4133-ad06-afcd0342c428  0.904654  2.131348  0.996615  3.256526   \n",
       "11e6cd2f-dab1-4133-ad06-afcd0342c428  2.050364  0.972343  0.104834  1.799764   \n",
       "11e6cd2f-dab1-4133-ad06-afcd0342c428  1.191454  1.915589  0.821870  2.783089   \n",
       "\n",
       "                                      RiskAverse  init_pop   gens  cutoff  \n",
       "sim                                                                        \n",
       "11e6cd2f-dab1-4133-ad06-afcd0342c428         0.5        10  80000       0  \n",
       "11e6cd2f-dab1-4133-ad06-afcd0342c428         0.5        10  80000       0  \n",
       "11e6cd2f-dab1-4133-ad06-afcd0342c428         0.5        10  80000       0  \n",
       "11e6cd2f-dab1-4133-ad06-afcd0342c428         0.5        10  80000       0  \n",
       "11e6cd2f-dab1-4133-ad06-afcd0342c428         0.5        10  80000       0  "
      ]
     },
     "execution_count": 19,
     "metadata": {},
     "output_type": "execute_result"
    }
   ],
   "source": [
    "#Data from Genetic Algorithm Simulation Perfect# \n",
    "\n",
    "#Creating a database and loading from disc, \n",
    "# run this cell each time you reopen the jupyter notebook\n",
    "# If there's no database with that name, it will create a new dataframe. \n",
    "# After the first simulation will be store. \n",
    "name = \"simulations_Enero_Prueba_80k\"\n",
    "\n",
    "try:\n",
    "    db_sims = pd.read_csv('./data/{}.csv'.format(name)).set_index('sim')\n",
    "except:\n",
    "    print(\"Impossible to retrieve {}.cvc\".format(name))\n",
    "    print(\"Creating new database named {}.cvc\".format(name))\n",
    "    \n",
    "#Cleaning dataframe, changing index,changing columns name in case they are wrong\n",
    "db_sims.rename(columns= {'Unnamed: 0':'sim','cara':'risk_aversion_coefficient'},inplace=True)\n",
    "#db_sims.set_index('sim',inplace= True)\n",
    "#printing head of dataframe,checkingif everything is ok\n",
    "db_sims.head()"
   ]
  },
  {
   "cell_type": "code",
   "execution_count": 20,
   "metadata": {},
   "outputs": [],
   "source": [
    "#Data from Genetic Algorithm Simulation\n",
    "U_ga11 = db_sims[(db_sims['RiskAverse']==0.5) & (db_sims['cutoff']==11)]['vU']\n",
    "V_ga11 = db_sims[(db_sims['RiskAverse']==0.5) & (db_sims['cutoff']==11)]['vV']\n",
    "WL_ga11 = db_sims[(db_sims['RiskAverse']==0.5) & (db_sims['cutoff']==11)]['WL']\n",
    "WH_ga11 = db_sims[(db_sims['RiskAverse']==0.5) & (db_sims['cutoff']==11)]['WH']"
   ]
  },
  {
   "cell_type": "code",
   "execution_count": 21,
   "metadata": {},
   "outputs": [
    {
     "data": {
      "text/html": [
       "<div>\n",
       "<style scoped>\n",
       "    .dataframe tbody tr th:only-of-type {\n",
       "        vertical-align: middle;\n",
       "    }\n",
       "\n",
       "    .dataframe tbody tr th {\n",
       "        vertical-align: top;\n",
       "    }\n",
       "\n",
       "    .dataframe thead th {\n",
       "        text-align: right;\n",
       "    }\n",
       "</style>\n",
       "<table border=\"1\" class=\"dataframe\">\n",
       "  <thead>\n",
       "    <tr style=\"text-align: right;\">\n",
       "      <th></th>\n",
       "      <th>u_p</th>\n",
       "      <th>u_a</th>\n",
       "      <th>w_l</th>\n",
       "      <th>w_h</th>\n",
       "      <th>risk_aversion_coefficient</th>\n",
       "      <th>beta</th>\n",
       "      <th>init_pop</th>\n",
       "      <th>gens</th>\n",
       "    </tr>\n",
       "    <tr>\n",
       "      <th>sim</th>\n",
       "      <th></th>\n",
       "      <th></th>\n",
       "      <th></th>\n",
       "      <th></th>\n",
       "      <th></th>\n",
       "      <th></th>\n",
       "      <th></th>\n",
       "      <th></th>\n",
       "    </tr>\n",
       "  </thead>\n",
       "  <tbody>\n",
       "    <tr>\n",
       "      <th>b614071e-9d54-4027-a275-ecfe8f8b9799</th>\n",
       "      <td>1.983400</td>\n",
       "      <td>0.377506</td>\n",
       "      <td>0.085311</td>\n",
       "      <td>1.939916</td>\n",
       "      <td>0.1</td>\n",
       "      <td>0.96</td>\n",
       "      <td>20</td>\n",
       "      <td>50000</td>\n",
       "    </tr>\n",
       "    <tr>\n",
       "      <th>b614071e-9d54-4027-a275-ecfe8f8b9799</th>\n",
       "      <td>1.958057</td>\n",
       "      <td>0.406117</td>\n",
       "      <td>0.134011</td>\n",
       "      <td>1.930540</td>\n",
       "      <td>0.1</td>\n",
       "      <td>0.96</td>\n",
       "      <td>20</td>\n",
       "      <td>50000</td>\n",
       "    </tr>\n",
       "    <tr>\n",
       "      <th>b614071e-9d54-4027-a275-ecfe8f8b9799</th>\n",
       "      <td>1.911869</td>\n",
       "      <td>0.448248</td>\n",
       "      <td>0.094959</td>\n",
       "      <td>2.081410</td>\n",
       "      <td>0.1</td>\n",
       "      <td>0.96</td>\n",
       "      <td>20</td>\n",
       "      <td>50000</td>\n",
       "    </tr>\n",
       "    <tr>\n",
       "      <th>b614071e-9d54-4027-a275-ecfe8f8b9799</th>\n",
       "      <td>1.105138</td>\n",
       "      <td>1.258426</td>\n",
       "      <td>0.950601</td>\n",
       "      <td>2.821997</td>\n",
       "      <td>0.1</td>\n",
       "      <td>0.96</td>\n",
       "      <td>20</td>\n",
       "      <td>50000</td>\n",
       "    </tr>\n",
       "    <tr>\n",
       "      <th>b614071e-9d54-4027-a275-ecfe8f8b9799</th>\n",
       "      <td>1.495374</td>\n",
       "      <td>0.879400</td>\n",
       "      <td>0.564469</td>\n",
       "      <td>2.430465</td>\n",
       "      <td>0.1</td>\n",
       "      <td>0.96</td>\n",
       "      <td>20</td>\n",
       "      <td>50000</td>\n",
       "    </tr>\n",
       "  </tbody>\n",
       "</table>\n",
       "</div>"
      ],
      "text/plain": [
       "                                           u_p       u_a       w_l       w_h  \\\n",
       "sim                                                                            \n",
       "b614071e-9d54-4027-a275-ecfe8f8b9799  1.983400  0.377506  0.085311  1.939916   \n",
       "b614071e-9d54-4027-a275-ecfe8f8b9799  1.958057  0.406117  0.134011  1.930540   \n",
       "b614071e-9d54-4027-a275-ecfe8f8b9799  1.911869  0.448248  0.094959  2.081410   \n",
       "b614071e-9d54-4027-a275-ecfe8f8b9799  1.105138  1.258426  0.950601  2.821997   \n",
       "b614071e-9d54-4027-a275-ecfe8f8b9799  1.495374  0.879400  0.564469  2.430465   \n",
       "\n",
       "                                      risk_aversion_coefficient  beta  \\\n",
       "sim                                                                     \n",
       "b614071e-9d54-4027-a275-ecfe8f8b9799                        0.1  0.96   \n",
       "b614071e-9d54-4027-a275-ecfe8f8b9799                        0.1  0.96   \n",
       "b614071e-9d54-4027-a275-ecfe8f8b9799                        0.1  0.96   \n",
       "b614071e-9d54-4027-a275-ecfe8f8b9799                        0.1  0.96   \n",
       "b614071e-9d54-4027-a275-ecfe8f8b9799                        0.1  0.96   \n",
       "\n",
       "                                      init_pop   gens  \n",
       "sim                                                    \n",
       "b614071e-9d54-4027-a275-ecfe8f8b9799        20  50000  \n",
       "b614071e-9d54-4027-a275-ecfe8f8b9799        20  50000  \n",
       "b614071e-9d54-4027-a275-ecfe8f8b9799        20  50000  \n",
       "b614071e-9d54-4027-a275-ecfe8f8b9799        20  50000  \n",
       "b614071e-9d54-4027-a275-ecfe8f8b9799        20  50000  "
      ]
     },
     "execution_count": 21,
     "metadata": {},
     "output_type": "execute_result"
    }
   ],
   "source": [
    "#Data from Genetic Algorithm Simulation ImPerfect# \n",
    "\n",
    "#Creating a database and loading from disc, \n",
    "# run this cell each time you reopen the jupyter notebook\n",
    "# If there's no database with that name, it will create a new dataframe. \n",
    "# After the first simulation will be store.\n",
    "name = \"simulations_50K\"\n",
    "\n",
    "try:\n",
    "    db_sims = pd.read_csv('./data/{}.csv'.format(name)).set_index('sim')\n",
    "except:\n",
    "    print(\"Impossible to retrieve {}.cvc\".format(name))\n",
    "    print(\"Creating new database named {}.cvc\".format(name))\n",
    "    \n",
    "#Cleaning dataframe, changing index,changing columns name in case they are wrong\n",
    "db_sims.rename(columns= {'Unnamed: 0':'sim','cara':'risk_aversion_coefficient'},inplace=True)\n",
    "#db_sims.set_index('sim',inplace= True)\n",
    "#printing head of dataframe,checkingif everything is ok\n",
    "db_sims.head()"
   ]
  },
  {
   "cell_type": "code",
   "execution_count": 22,
   "metadata": {},
   "outputs": [],
   "source": [
    "U_ga50 = db_sims[(db_sims['risk_aversion_coefficient']==0.5)]['u_p']\n",
    "V_ga50 = db_sims[(db_sims['risk_aversion_coefficient']==0.5)]['u_a']\n",
    "WL_ga50 = db_sims[(db_sims['risk_aversion_coefficient']==0.5)]['w_l']\n",
    "WH_ga50 = db_sims[(db_sims['risk_aversion_coefficient']==0.5)]['w_h']"
   ]
  },
  {
   "cell_type": "code",
   "execution_count": 24,
   "metadata": {},
   "outputs": [
    {
     "data": {
      "image/png": "[encoded data removed]",
      "text/plain": [
       "<Figure size 432x288 with 1 Axes>"
      ]
     },
     "metadata": {
      "needs_background": "light"
     },
     "output_type": "display_data"
    },
    {
     "data": {
      "text/plain": [
       "<Figure size 432x288 with 0 Axes>"
      ]
     },
     "metadata": {},
     "output_type": "display_data"
    }
   ],
   "source": [
    "plt.figure(figsize=(6, 4))\n",
    "\n",
    "plt.scatter(U_ga11, V_ga11, s=2.0, c='red', label='Perfect Information')\n",
    "plt.scatter(U_ga50, V_ga50, s=2.0, c='blue', label='Imperfect Information')\n",
    "plt.xlabel(\"Principal Utility\",fontsize=10)\n",
    "plt.ylabel(\"Agent Utility\",fontsize=10)\n",
    "plt.legend(fontsize=8) \n",
    "\n",
    "plt.show()\n",
    "plt.savefig('./reports/Third_Comparation.pdf')"
   ]
  },
  {
   "cell_type": "code",
   "execution_count": null,
   "metadata": {},
   "outputs": [],
   "source": []
  },
  {
   "cell_type": "code",
   "execution_count": null,
   "metadata": {},
   "outputs": [],
   "source": []
  }
 ],
 "metadata": {
  "@webio": {
   "lastCommId": null,
   "lastKernelId": null
  },
  "hide_input": false,
  "kernelspec": {
   "display_name": "Python 3",
   "language": "python",
   "name": "python3"
  },
  "language_info": {
   "codemirror_mode": {
    "name": "ipython",
    "version": 3
   },
   "file_extension": ".py",
   "mimetype": "text/x-python",
   "name": "python",
   "nbconvert_exporter": "python",
   "pygments_lexer": "ipython3",
   "version": "3.8.8"
  },
  "toc": {
   "base_numbering": 1,
   "nav_menu": {},
   "number_sections": true,
   "sideBar": true,
   "skip_h1_title": false,
   "title_cell": "Table of Contents",
   "title_sidebar": "Contents",
   "toc_cell": false,
   "toc_position": {
    "height": "calc(100% - 180px)",
    "left": "10px",
    "top": "150px",
    "width": "307.181px"
   },
   "toc_section_display": true,
   "toc_window_display": true
  },
  "varInspector": {
   "cols": {
    "lenName": 16,
    "lenType": 16,
    "lenVar": 40
   },
   "kernels_config": {
    "python": {
     "delete_cmd_postfix": "",
     "delete_cmd_prefix": "del ",
     "library": "var_list.py",
     "varRefreshCmd": "print(var_dic_list())"
    },
    "r": {
     "delete_cmd_postfix": ") ",
     "delete_cmd_prefix": "rm(",
     "library": "var_list.r",
     "varRefreshCmd": "cat(var_dic_list()) "
    }
   },
   "position": {
    "height": "373.208px",
    "left": "1412.67px",
    "right": "20px",
    "top": "120px",
    "width": "274px"
   },
   "types_to_exclude": [
    "module",
    "function",
    "builtin_function_or_method",
    "instance",
    "_Feature"
   ],
   "window_display": true
  }
 },
 "nbformat": 4,
 "nbformat_minor": 2
}
